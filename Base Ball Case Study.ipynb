{
 "cells": [
  {
   "cell_type": "code",
   "execution_count": 1,
   "id": "50f1ffc4",
   "metadata": {},
   "outputs": [],
   "source": [
    "import pandas as pd\n",
    "from sklearn.model_selection import train_test_split\n",
    "from sklearn.linear_model import LinearRegression\n",
    "from sklearn.metrics import mean_squared_error, mean_absolute_error, r2_score\n"
   ]
  },
  {
   "cell_type": "code",
   "execution_count": 2,
   "id": "2e6a237a",
   "metadata": {},
   "outputs": [],
   "source": [
    "url = 'https://raw.githubusercontent.com/dsrscientist/Data-Science-ML-Capstone-Projects/master/baseball.csv'\n",
    "data = pd.read_csv(url)\n"
   ]
  },
  {
   "cell_type": "code",
   "execution_count": 3,
   "id": "dea2e09b",
   "metadata": {},
   "outputs": [],
   "source": [
    "X = data.drop('W', axis=1)\n",
    "y = data['W']\n"
   ]
  },
  {
   "cell_type": "code",
   "execution_count": 4,
   "id": "b32d7123",
   "metadata": {},
   "outputs": [],
   "source": [
    "X_train, X_test, y_train, y_test = train_test_split(X, y, test_size=0.2, random_state=42)\n"
   ]
  },
  {
   "cell_type": "code",
   "execution_count": 5,
   "id": "79c0da5f",
   "metadata": {},
   "outputs": [
    {
     "data": {
      "text/plain": [
       "LinearRegression()"
      ]
     },
     "execution_count": 5,
     "metadata": {},
     "output_type": "execute_result"
    }
   ],
   "source": [
    "model = LinearRegression()\n",
    "model.fit(X_train, y_train)\n"
   ]
  },
  {
   "cell_type": "code",
   "execution_count": 6,
   "id": "fdd1862b",
   "metadata": {},
   "outputs": [],
   "source": [
    "y_pred = model.predict(X_test)\n"
   ]
  },
  {
   "cell_type": "code",
   "execution_count": 7,
   "id": "60032308",
   "metadata": {},
   "outputs": [],
   "source": [
    "mse = mean_squared_error(y_test, y_pred)\n",
    "mae = mean_absolute_error(y_test, y_pred)\n",
    "r2 = r2_score(y_test, y_pred)\n"
   ]
  },
  {
   "cell_type": "code",
   "execution_count": 8,
   "id": "000fe4ab",
   "metadata": {},
   "outputs": [
    {
     "name": "stdout",
     "output_type": "stream",
     "text": [
      "Mean Squared Error: 27.943032506666906\n",
      "Mean Absolute Error: 3.892999136999729\n",
      "R-squared Score: 0.7876400316149443\n"
     ]
    }
   ],
   "source": [
    "print('Mean Squared Error:', mse)\n",
    "print('Mean Absolute Error:', mae)\n",
    "print('R-squared Score:', r2)\n"
   ]
  },
  {
   "cell_type": "code",
   "execution_count": 9,
   "id": "2c282adb",
   "metadata": {},
   "outputs": [
    {
     "name": "stdout",
     "output_type": "stream",
     "text": [
      "Mean Squared Error: 27.943032506666906\n",
      "Mean Absolute Error: 3.892999136999729\n",
      "R-squared Score: 0.7876400316149443\n",
      "Predicted wins for the 2015 season: [ 96.31913949  83.24050669  80.56741447  74.43407293  71.9257935\n",
      "  93.84045252  85.90444622  80.93703171  91.5547615   79.20277886\n",
      "  86.03152126  84.44896946  83.41810302  79.87043066  68.94490177\n",
      " 101.01861025  97.30227682  93.71375515  71.26699092  64.62457071\n",
      "  88.30574412  84.51420461  70.22398009  69.42504558  61.19669444\n",
      "  91.69115709  85.5322213   82.87055379  75.48252036  67.97685581]\n"
     ]
    }
   ],
   "source": [
    "import pandas as pd\n",
    "from sklearn.model_selection import train_test_split\n",
    "from sklearn.linear_model import LinearRegression\n",
    "from sklearn.metrics import mean_squared_error, mean_absolute_error, r2_score\n",
    "\n",
    "# Step 1: Loading the dataset\n",
    "url = 'https://raw.githubusercontent.com/dsrscientist/Data-Science-ML-Capstone-Projects/master/baseball.csv'\n",
    "data = pd.read_csv(url)\n",
    "\n",
    "# Step 2: Data preprocessing\n",
    "# Checking for missing values\n",
    "data.isnull().sum()\n",
    "\n",
    "# Handling missing values (if any)\n",
    "data = data.dropna()\n",
    "\n",
    "# Step 3: Featuring selection\n",
    "X = data[['R', 'AB', 'H', '2B', '3B', 'HR', 'BB', 'SO', 'SB', 'RA', 'ER', 'ERA', 'CG', 'SHO', 'SV', 'E']]\n",
    "y = data['W']\n",
    "\n",
    "# Step 4: Splitting the data into training and testing sets\n",
    "X_train, X_test, y_train, y_test = train_test_split(X, y, test_size=0.2, random_state=42)\n",
    "\n",
    "# Step 5: Creating and training the linear regression model\n",
    "model = LinearRegression()\n",
    "model.fit(X_train, y_train)\n",
    "\n",
    "# Step 6: Making predictions on the test set\n",
    "y_pred = model.predict(X_test)\n",
    "\n",
    "# Step 7: Evaluate the model's performance\n",
    "mse = mean_squared_error(y_test, y_pred)\n",
    "mae = mean_absolute_error(y_test, y_pred)\n",
    "r2 = r2_score(y_test, y_pred)\n",
    "\n",
    "# Step 8: Print the evaluation metrics\n",
    "print('Mean Squared Error:', mse)\n",
    "print('Mean Absolute Error:', mae)\n",
    "print('R-squared Score:', r2)\n",
    "\n",
    "# Step 9: Make predictions for the 2015 season\n",
    "# Load the new data for the 2015 season\n",
    "new_data = pd.read_csv(\"baseball.csv\")  # Replace 'new_data.csv' with the actual filename\n",
    "\n",
    "# Preprocess the new data\n",
    "new_X = new_data[['R', 'AB', 'H', '2B', '3B', 'HR', 'BB', 'SO', 'SB', 'RA', 'ER', 'ERA', 'CG', 'SHO', 'SV', 'E']]\n",
    "\n",
    "# Make predictions using the trained model\n",
    "new_predictions = model.predict(new_X)\n",
    "\n",
    "# Print the predicted number of wins for the 2015 season\n",
    "print('Predicted wins for the 2015 season:', new_predictions)\n"
   ]
  },
  {
   "cell_type": "code",
   "execution_count": null,
   "id": "3631b08b",
   "metadata": {},
   "outputs": [],
   "source": []
  }
 ],
 "metadata": {
  "kernelspec": {
   "display_name": "Python 3 (ipykernel)",
   "language": "python",
   "name": "python3"
  },
  "language_info": {
   "codemirror_mode": {
    "name": "ipython",
    "version": 3
   },
   "file_extension": ".py",
   "mimetype": "text/x-python",
   "name": "python",
   "nbconvert_exporter": "python",
   "pygments_lexer": "ipython3",
   "version": "3.9.12"
  }
 },
 "nbformat": 4,
 "nbformat_minor": 5
}
