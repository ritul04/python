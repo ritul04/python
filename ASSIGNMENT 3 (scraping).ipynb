{
 "cells": [
  {
   "cell_type": "markdown",
   "id": "1af2e36e",
   "metadata": {},
   "source": [
    "# ANSWER 1"
   ]
  },
  {
   "cell_type": "code",
   "execution_count": 1,
   "id": "b649b476",
   "metadata": {},
   "outputs": [
    {
     "name": "stdout",
     "output_type": "stream",
     "text": [
      "Requirement already satisfied: selenium in c:\\users\\ritul pawar\\anaconda3\\lib\\site-packages (4.8.0)\n",
      "Requirement already satisfied: certifi>=2021.10.8 in c:\\users\\ritul pawar\\anaconda3\\lib\\site-packages (from selenium) (2021.10.8)\n",
      "Requirement already satisfied: urllib3[socks]~=1.26 in c:\\users\\ritul pawar\\anaconda3\\lib\\site-packages (from selenium) (1.26.9)\n",
      "Requirement already satisfied: trio-websocket~=0.9 in c:\\users\\ritul pawar\\anaconda3\\lib\\site-packages (from selenium) (0.9.2)\n",
      "Requirement already satisfied: trio~=0.17 in c:\\users\\ritul pawar\\anaconda3\\lib\\site-packages (from selenium) (0.22.0)\n",
      "Requirement already satisfied: async-generator>=1.9 in c:\\users\\ritul pawar\\anaconda3\\lib\\site-packages (from trio~=0.17->selenium) (1.10)\n",
      "Requirement already satisfied: exceptiongroup>=1.0.0rc9 in c:\\users\\ritul pawar\\anaconda3\\lib\\site-packages (from trio~=0.17->selenium) (1.1.0)\n",
      "Requirement already satisfied: attrs>=19.2.0 in c:\\users\\ritul pawar\\anaconda3\\lib\\site-packages (from trio~=0.17->selenium) (21.4.0)\n",
      "Requirement already satisfied: sortedcontainers in c:\\users\\ritul pawar\\anaconda3\\lib\\site-packages (from trio~=0.17->selenium) (2.4.0)\n",
      "Requirement already satisfied: cffi>=1.14 in c:\\users\\ritul pawar\\anaconda3\\lib\\site-packages (from trio~=0.17->selenium) (1.15.0)\n",
      "Requirement already satisfied: idna in c:\\users\\ritul pawar\\anaconda3\\lib\\site-packages (from trio~=0.17->selenium) (3.3)\n",
      "Requirement already satisfied: outcome in c:\\users\\ritul pawar\\anaconda3\\lib\\site-packages (from trio~=0.17->selenium) (1.2.0)\n",
      "Requirement already satisfied: sniffio in c:\\users\\ritul pawar\\anaconda3\\lib\\site-packages (from trio~=0.17->selenium) (1.2.0)\n",
      "Requirement already satisfied: pycparser in c:\\users\\ritul pawar\\anaconda3\\lib\\site-packages (from cffi>=1.14->trio~=0.17->selenium) (2.21)\n",
      "Requirement already satisfied: wsproto>=0.14 in c:\\users\\ritul pawar\\anaconda3\\lib\\site-packages (from trio-websocket~=0.9->selenium) (1.2.0)\n",
      "Requirement already satisfied: PySocks!=1.5.7,<2.0,>=1.5.6 in c:\\users\\ritul pawar\\anaconda3\\lib\\site-packages (from urllib3[socks]~=1.26->selenium) (1.7.1)\n",
      "Requirement already satisfied: h11<1,>=0.9.0 in c:\\users\\ritul pawar\\anaconda3\\lib\\site-packages (from wsproto>=0.14->trio-websocket~=0.9->selenium) (0.14.0)\n"
     ]
    }
   ],
   "source": [
    "!pip install selenium"
   ]
  },
  {
   "cell_type": "code",
   "execution_count": 2,
   "id": "690ca1a0",
   "metadata": {},
   "outputs": [],
   "source": [
    "import selenium\n",
    "import pandas as pd\n",
    "from selenium import webdriver\n",
    "import warnings\n",
    "warnings.filterwarnings('ignore')\n",
    "from selenium.common.exceptions import StaleElementReferenceException, NoSuchElementException\n",
    "from selenium.webdriver.common.by import By\n",
    "import requests\n",
    "import time\n"
   ]
  },
  {
   "cell_type": "code",
   "execution_count": 5,
   "id": "4a2eae9c",
   "metadata": {},
   "outputs": [],
   "source": [
    "driver=webdriver.Chrome(r\"C:\\Users\\ritul pawar\\Downloads\\chromedriver_win32\\chromedriver.exe\")"
   ]
  },
  {
   "cell_type": "code",
   "execution_count": 32,
   "id": "37f76b31",
   "metadata": {},
   "outputs": [],
   "source": [
    "driver.get(\"http://www.amazon.in/\")"
   ]
  },
  {
   "cell_type": "code",
   "execution_count": 33,
   "id": "0d7f37c3",
   "metadata": {},
   "outputs": [
    {
     "name": "stdout",
     "output_type": "stream",
     "text": [
      "enter product you want to be searched guitar\n"
     ]
    }
   ],
   "source": [
    "search=input(\"enter product you want to be searched \")"
   ]
  },
  {
   "cell_type": "code",
   "execution_count": 34,
   "id": "0f31db80",
   "metadata": {},
   "outputs": [],
   "source": [
    "product=driver.find_element(By.XPATH,'/html/body/div[1]/header/div/div[1]/div[2]/div/form/div[2]/div[1]/input')\n",
    "product.send_keys(search)\n",
    "search=driver.find_element(By.XPATH,'/html/body/div[1]/header/div/div[1]/div[2]/div/form/div[3]/div/span/input')\n",
    "search.click()"
   ]
  },
  {
   "cell_type": "markdown",
   "id": "9c297a5b",
   "metadata": {},
   "source": [
    "# ANSWER 2"
   ]
  },
  {
   "cell_type": "code",
   "execution_count": 35,
   "id": "34028d6a",
   "metadata": {},
   "outputs": [
    {
     "ename": "NoSuchElementException",
     "evalue": "Message: no such element: Unable to locate element: {\"method\":\"xpath\",\"selector\":\"//a[@class=\"s-pagination-item s-pagination-next s-pagination-button s-pagination-separator\"]\"}\n  (Session info: chrome=110.0.5481.178)\nStacktrace:\nBacktrace:\n\t(No symbol) [0x006D37D3]\n\t(No symbol) [0x00668B81]\n\t(No symbol) [0x0056B36D]\n\t(No symbol) [0x0059D382]\n\t(No symbol) [0x0059D4BB]\n\t(No symbol) [0x005D3302]\n\t(No symbol) [0x005BB464]\n\t(No symbol) [0x005D1215]\n\t(No symbol) [0x005BB216]\n\t(No symbol) [0x00590D97]\n\t(No symbol) [0x0059253D]\n\tGetHandleVerifier [0x0094ABF2+2510930]\n\tGetHandleVerifier [0x00978EC1+2700065]\n\tGetHandleVerifier [0x0097C86C+2714828]\n\tGetHandleVerifier [0x00783480+645344]\n\t(No symbol) [0x00670FD2]\n\t(No symbol) [0x00676C68]\n\t(No symbol) [0x00676D4B]\n\t(No symbol) [0x00680D6B]\n\tBaseThreadInitThunk [0x75F47D69+25]\n\tRtlInitializeExceptionChain [0x7704BB9B+107]\n\tRtlClearBits [0x7704BB1F+191]\n",
     "output_type": "error",
     "traceback": [
      "\u001b[1;31m---------------------------------------------------------------------------\u001b[0m",
      "\u001b[1;31mNoSuchElementException\u001b[0m                    Traceback (most recent call last)",
      "Input \u001b[1;32mIn [35]\u001b[0m, in \u001b[0;36m<cell line: 5>\u001b[1;34m()\u001b[0m\n\u001b[0;32m      7\u001b[0m \u001b[38;5;28;01mfor\u001b[39;00m i \u001b[38;5;129;01min\u001b[39;00m  url:\n\u001b[0;32m      8\u001b[0m     product_urls\u001b[38;5;241m.\u001b[39mappend(i\u001b[38;5;241m.\u001b[39mget_attribute(\u001b[38;5;124m\"\u001b[39m\u001b[38;5;124mhref\u001b[39m\u001b[38;5;124m\"\u001b[39m))\n\u001b[1;32m----> 9\u001b[0m \u001b[38;5;28mnext\u001b[39m\u001b[38;5;241m=\u001b[39m\u001b[43mdriver\u001b[49m\u001b[38;5;241;43m.\u001b[39;49m\u001b[43mfind_element\u001b[49m\u001b[43m(\u001b[49m\u001b[43mBy\u001b[49m\u001b[38;5;241;43m.\u001b[39;49m\u001b[43mXPATH\u001b[49m\u001b[43m,\u001b[49m\u001b[38;5;124;43m'\u001b[39;49m\u001b[38;5;124;43m//a[@class=\u001b[39;49m\u001b[38;5;124;43m\"\u001b[39;49m\u001b[38;5;124;43ms-pagination-item s-pagination-next s-pagination-button s-pagination-separator\u001b[39;49m\u001b[38;5;124;43m\"\u001b[39;49m\u001b[38;5;124;43m]\u001b[39;49m\u001b[38;5;124;43m'\u001b[39;49m\u001b[43m)\u001b[49m\n\u001b[0;32m     10\u001b[0m \u001b[38;5;28mnext\u001b[39m\u001b[38;5;241m.\u001b[39mclick()\n",
      "File \u001b[1;32m~\\anaconda3\\lib\\site-packages\\selenium\\webdriver\\remote\\webdriver.py:830\u001b[0m, in \u001b[0;36mWebDriver.find_element\u001b[1;34m(self, by, value)\u001b[0m\n\u001b[0;32m    827\u001b[0m     by \u001b[38;5;241m=\u001b[39m By\u001b[38;5;241m.\u001b[39mCSS_SELECTOR\n\u001b[0;32m    828\u001b[0m     value \u001b[38;5;241m=\u001b[39m \u001b[38;5;124mf\u001b[39m\u001b[38;5;124m'\u001b[39m\u001b[38;5;124m[name=\u001b[39m\u001b[38;5;124m\"\u001b[39m\u001b[38;5;132;01m{\u001b[39;00mvalue\u001b[38;5;132;01m}\u001b[39;00m\u001b[38;5;124m\"\u001b[39m\u001b[38;5;124m]\u001b[39m\u001b[38;5;124m'\u001b[39m\n\u001b[1;32m--> 830\u001b[0m \u001b[38;5;28;01mreturn\u001b[39;00m \u001b[38;5;28;43mself\u001b[39;49m\u001b[38;5;241;43m.\u001b[39;49m\u001b[43mexecute\u001b[49m\u001b[43m(\u001b[49m\u001b[43mCommand\u001b[49m\u001b[38;5;241;43m.\u001b[39;49m\u001b[43mFIND_ELEMENT\u001b[49m\u001b[43m,\u001b[49m\u001b[43m \u001b[49m\u001b[43m{\u001b[49m\u001b[38;5;124;43m\"\u001b[39;49m\u001b[38;5;124;43musing\u001b[39;49m\u001b[38;5;124;43m\"\u001b[39;49m\u001b[43m:\u001b[49m\u001b[43m \u001b[49m\u001b[43mby\u001b[49m\u001b[43m,\u001b[49m\u001b[43m \u001b[49m\u001b[38;5;124;43m\"\u001b[39;49m\u001b[38;5;124;43mvalue\u001b[39;49m\u001b[38;5;124;43m\"\u001b[39;49m\u001b[43m:\u001b[49m\u001b[43m \u001b[49m\u001b[43mvalue\u001b[49m\u001b[43m}\u001b[49m\u001b[43m)\u001b[49m[\u001b[38;5;124m\"\u001b[39m\u001b[38;5;124mvalue\u001b[39m\u001b[38;5;124m\"\u001b[39m]\n",
      "File \u001b[1;32m~\\anaconda3\\lib\\site-packages\\selenium\\webdriver\\remote\\webdriver.py:440\u001b[0m, in \u001b[0;36mWebDriver.execute\u001b[1;34m(self, driver_command, params)\u001b[0m\n\u001b[0;32m    438\u001b[0m response \u001b[38;5;241m=\u001b[39m \u001b[38;5;28mself\u001b[39m\u001b[38;5;241m.\u001b[39mcommand_executor\u001b[38;5;241m.\u001b[39mexecute(driver_command, params)\n\u001b[0;32m    439\u001b[0m \u001b[38;5;28;01mif\u001b[39;00m response:\n\u001b[1;32m--> 440\u001b[0m     \u001b[38;5;28;43mself\u001b[39;49m\u001b[38;5;241;43m.\u001b[39;49m\u001b[43merror_handler\u001b[49m\u001b[38;5;241;43m.\u001b[39;49m\u001b[43mcheck_response\u001b[49m\u001b[43m(\u001b[49m\u001b[43mresponse\u001b[49m\u001b[43m)\u001b[49m\n\u001b[0;32m    441\u001b[0m     response[\u001b[38;5;124m\"\u001b[39m\u001b[38;5;124mvalue\u001b[39m\u001b[38;5;124m\"\u001b[39m] \u001b[38;5;241m=\u001b[39m \u001b[38;5;28mself\u001b[39m\u001b[38;5;241m.\u001b[39m_unwrap_value(response\u001b[38;5;241m.\u001b[39mget(\u001b[38;5;124m\"\u001b[39m\u001b[38;5;124mvalue\u001b[39m\u001b[38;5;124m\"\u001b[39m, \u001b[38;5;28;01mNone\u001b[39;00m))\n\u001b[0;32m    442\u001b[0m     \u001b[38;5;28;01mreturn\u001b[39;00m response\n",
      "File \u001b[1;32m~\\anaconda3\\lib\\site-packages\\selenium\\webdriver\\remote\\errorhandler.py:245\u001b[0m, in \u001b[0;36mErrorHandler.check_response\u001b[1;34m(self, response)\u001b[0m\n\u001b[0;32m    243\u001b[0m         alert_text \u001b[38;5;241m=\u001b[39m value[\u001b[38;5;124m\"\u001b[39m\u001b[38;5;124malert\u001b[39m\u001b[38;5;124m\"\u001b[39m]\u001b[38;5;241m.\u001b[39mget(\u001b[38;5;124m\"\u001b[39m\u001b[38;5;124mtext\u001b[39m\u001b[38;5;124m\"\u001b[39m)\n\u001b[0;32m    244\u001b[0m     \u001b[38;5;28;01mraise\u001b[39;00m exception_class(message, screen, stacktrace, alert_text)  \u001b[38;5;66;03m# type: ignore[call-arg]  # mypy is not smart enough here\u001b[39;00m\n\u001b[1;32m--> 245\u001b[0m \u001b[38;5;28;01mraise\u001b[39;00m exception_class(message, screen, stacktrace)\n",
      "\u001b[1;31mNoSuchElementException\u001b[0m: Message: no such element: Unable to locate element: {\"method\":\"xpath\",\"selector\":\"//a[@class=\"s-pagination-item s-pagination-next s-pagination-button s-pagination-separator\"]\"}\n  (Session info: chrome=110.0.5481.178)\nStacktrace:\nBacktrace:\n\t(No symbol) [0x006D37D3]\n\t(No symbol) [0x00668B81]\n\t(No symbol) [0x0056B36D]\n\t(No symbol) [0x0059D382]\n\t(No symbol) [0x0059D4BB]\n\t(No symbol) [0x005D3302]\n\t(No symbol) [0x005BB464]\n\t(No symbol) [0x005D1215]\n\t(No symbol) [0x005BB216]\n\t(No symbol) [0x00590D97]\n\t(No symbol) [0x0059253D]\n\tGetHandleVerifier [0x0094ABF2+2510930]\n\tGetHandleVerifier [0x00978EC1+2700065]\n\tGetHandleVerifier [0x0097C86C+2714828]\n\tGetHandleVerifier [0x00783480+645344]\n\t(No symbol) [0x00670FD2]\n\t(No symbol) [0x00676C68]\n\t(No symbol) [0x00676D4B]\n\t(No symbol) [0x00680D6B]\n\tBaseThreadInitThunk [0x75F47D69+25]\n\tRtlInitializeExceptionChain [0x7704BB9B+107]\n\tRtlClearBits [0x7704BB1F+191]\n"
     ]
    }
   ],
   "source": [
    "product_urls=[]\n",
    "start=0\n",
    "end=3\n",
    "\n",
    "for page in range(start,end):\n",
    "    url=driver.find_elements(By.XPATH,'//a[@class=\"a-link-normal s-no-outline\"]')\n",
    "    for i in  url:\n",
    "        product_urls.append(i.get_attribute(\"href\"))\n",
    "    next=driver.find_element(By.XPATH,'//a[@class=\"s-pagination-item s-pagination-next s-pagination-button s-pagination-separator\"]')\n",
    "    next.click()\n",
    "    "
   ]
  },
  {
   "cell_type": "code",
   "execution_count": 36,
   "id": "fe75c117",
   "metadata": {},
   "outputs": [
    {
     "data": {
      "text/plain": [
       "66"
      ]
     },
     "execution_count": 36,
     "metadata": {},
     "output_type": "execute_result"
    }
   ],
   "source": [
    "len(product_urls)"
   ]
  },
  {
   "cell_type": "code",
   "execution_count": 39,
   "id": "b34612a6",
   "metadata": {},
   "outputs": [
    {
     "ename": "NameError",
     "evalue": "name 'Product' is not defined",
     "output_type": "error",
     "traceback": [
      "\u001b[1;31m---------------------------------------------------------------------------\u001b[0m",
      "\u001b[1;31mNameError\u001b[0m                                 Traceback (most recent call last)",
      "Input \u001b[1;32mIn [39]\u001b[0m, in \u001b[0;36m<cell line: 1>\u001b[1;34m()\u001b[0m\n\u001b[0;32m      8\u001b[0m \u001b[38;5;28;01mtry\u001b[39;00m:   \n\u001b[0;32m      9\u001b[0m     product\u001b[38;5;241m=\u001b[39mdriver\u001b[38;5;241m.\u001b[39mfind_element(By\u001b[38;5;241m.\u001b[39mXPATH,\u001b[38;5;124m'\u001b[39m\u001b[38;5;124m//span[@class=\u001b[39m\u001b[38;5;124m\"\u001b[39m\u001b[38;5;124ma-size-large product-title-word-break\u001b[39m\u001b[38;5;124m\"\u001b[39m\u001b[38;5;124m]\u001b[39m\u001b[38;5;124m'\u001b[39m)\n\u001b[1;32m---> 10\u001b[0m     \u001b[43mProduct\u001b[49m\u001b[38;5;241m.\u001b[39mappend(product\u001b[38;5;241m.\u001b[39mtext)\n\u001b[0;32m     11\u001b[0m \u001b[38;5;28;01mexcept\u001b[39;00m NoSuchElementException:\n\u001b[0;32m     12\u001b[0m     product\u001b[38;5;241m.\u001b[39mappend(\u001b[38;5;124m'\u001b[39m\u001b[38;5;124m-\u001b[39m\u001b[38;5;124m'\u001b[39m)    \n",
      "\u001b[1;31mNameError\u001b[0m: name 'Product' is not defined"
     ]
    }
   ],
   "source": [
    "for url in product_urls:\n",
    "    driver.get(url)    \n",
    "    try:\n",
    "        brand=driver.find_element(By.XPATH,'//span[@class=\"a-size-base po-break-word\"]')\n",
    "        brand.text\n",
    "    except NoSuchElementException:\n",
    "        brand.append('-')    \n",
    "    try:   \n",
    "        product=driver.find_element(By.XPATH,'//span[@class=\"a-size-large product-title-word-break\"]')\n",
    "        Product.append(product.text)\n",
    "    except NoSuchElementException:\n",
    "        product.append('-')    \n",
    "    try:    \n",
    "        price=driver.find_element(By.XPATH,'//span[@class=\"a-price-whole\"]')\n",
    "        price.text\n",
    "    except NoSuchElementException:\n",
    "        price.append('-')  \n",
    "    try:    \n",
    "        ret=driver.find_element(By.XPATH,'//a[@class=\"a-size-small a-link-normal a-text-normal\"]')\n",
    "        ret.text\n",
    "    except NoSuchElementException:\n",
    "        ret.append('-')      \n",
    "    try:   \n",
    "        delivery=driver.find_element(By.XPATH,'//span[@class=\"a-text-bold\"]')\n",
    "        delivery.text\n",
    "    except NoSuchElementException:\n",
    "        delivery.append('-') \n",
    "    try:    \n",
    "        availability=driver.find_element(By.XPATH,'//span[@class=\"a-size-medium a-color-success\"]')\n",
    "        availability.text\n",
    "    except NoSuchElementException:\n",
    "        availability.append('-')     \n",
    "    try:    \n",
    "        product_url=driver.find_element(By.XPATH,'//a[@class=\"a-link-normal\"]')\n",
    "        product_url.text\n",
    "    except NoSuchElementException:\n",
    "        product_url.append('-')\n",
    "        "
   ]
  },
  {
   "cell_type": "code",
   "execution_count": 40,
   "id": "0d96814f",
   "metadata": {},
   "outputs": [
    {
     "name": "stdout",
     "output_type": "stream",
     "text": [
      "7\n"
     ]
    }
   ],
   "source": [
    "print(len({'BRAND NAME':brand,'NAME OF THE PRODUCT':product,'PRICE':price,'RETURN/EXCHANGE':ret,'EXPECTED DELIVERY':delivery,'AVAILABILITY':availability,'PRODUCT URLS':product_url}))"
   ]
  },
  {
   "cell_type": "code",
   "execution_count": 41,
   "id": "0130f678",
   "metadata": {},
   "outputs": [
    {
     "data": {
      "text/html": [
       "<div>\n",
       "<style scoped>\n",
       "    .dataframe tbody tr th:only-of-type {\n",
       "        vertical-align: middle;\n",
       "    }\n",
       "\n",
       "    .dataframe tbody tr th {\n",
       "        vertical-align: top;\n",
       "    }\n",
       "\n",
       "    .dataframe thead th {\n",
       "        text-align: right;\n",
       "    }\n",
       "</style>\n",
       "<table border=\"1\" class=\"dataframe\">\n",
       "  <thead>\n",
       "    <tr style=\"text-align: right;\">\n",
       "      <th></th>\n",
       "      <th>BRAND NAME</th>\n",
       "      <th>NAME OF THE PRODUCT</th>\n",
       "      <th>PRICE</th>\n",
       "      <th>RETURN/EXCHANGE</th>\n",
       "      <th>EXPECTED DELIVERY</th>\n",
       "      <th>AVAILABILITY</th>\n",
       "      <th>PRODUCT URLS</th>\n",
       "    </tr>\n",
       "  </thead>\n",
       "  <tbody>\n",
       "    <tr>\n",
       "      <th>0</th>\n",
       "      <td>&lt;selenium.webdriver.remote.webelement.WebEleme...</td>\n",
       "      <td>&lt;selenium.webdriver.remote.webelement.WebEleme...</td>\n",
       "      <td>&lt;selenium.webdriver.remote.webelement.WebEleme...</td>\n",
       "      <td>&lt;selenium.webdriver.remote.webelement.WebEleme...</td>\n",
       "      <td>&lt;selenium.webdriver.remote.webelement.WebEleme...</td>\n",
       "      <td>&lt;selenium.webdriver.remote.webelement.WebEleme...</td>\n",
       "      <td>&lt;selenium.webdriver.remote.webelement.WebEleme...</td>\n",
       "    </tr>\n",
       "  </tbody>\n",
       "</table>\n",
       "</div>"
      ],
      "text/plain": [
       "                                          BRAND NAME  \\\n",
       "0  <selenium.webdriver.remote.webelement.WebEleme...   \n",
       "\n",
       "                                 NAME OF THE PRODUCT  \\\n",
       "0  <selenium.webdriver.remote.webelement.WebEleme...   \n",
       "\n",
       "                                               PRICE  \\\n",
       "0  <selenium.webdriver.remote.webelement.WebEleme...   \n",
       "\n",
       "                                     RETURN/EXCHANGE  \\\n",
       "0  <selenium.webdriver.remote.webelement.WebEleme...   \n",
       "\n",
       "                                   EXPECTED DELIVERY  \\\n",
       "0  <selenium.webdriver.remote.webelement.WebEleme...   \n",
       "\n",
       "                                        AVAILABILITY  \\\n",
       "0  <selenium.webdriver.remote.webelement.WebEleme...   \n",
       "\n",
       "                                        PRODUCT URLS  \n",
       "0  <selenium.webdriver.remote.webelement.WebEleme...  "
      ]
     },
     "execution_count": 41,
     "metadata": {},
     "output_type": "execute_result"
    }
   ],
   "source": [
    "df=pd.DataFrame({'BRAND NAME':brand,'NAME OF THE PRODUCT':product,'PRICE':price,'RETURN/EXCHANGE':ret,'EXPECTED DELIVERY':delivery,'AVAILABILITY':availability,'PRODUCT URLS':product_url},index=[0])\n",
    "df"
   ]
  },
  {
   "cell_type": "code",
   "execution_count": 42,
   "id": "a4d9f529",
   "metadata": {},
   "outputs": [],
   "source": [
    "df.to_csv('amazon.csv')"
   ]
  },
  {
   "cell_type": "code",
   "execution_count": null,
   "id": "a0f46e4d",
   "metadata": {},
   "outputs": [],
   "source": []
  },
  {
   "cell_type": "code",
   "execution_count": null,
   "id": "4c78ad31",
   "metadata": {},
   "outputs": [],
   "source": []
  },
  {
   "cell_type": "markdown",
   "id": "68f3c0bf",
   "metadata": {},
   "source": [
    "# answer 3"
   ]
  },
  {
   "cell_type": "code",
   "execution_count": null,
   "id": "a28e7276",
   "metadata": {},
   "outputs": [],
   "source": []
  },
  {
   "cell_type": "code",
   "execution_count": 72,
   "id": "68aa9f03",
   "metadata": {},
   "outputs": [],
   "source": [
    "driver=webdriver.Chrome(r\"C:\\Users\\ritul pawar\\Downloads\\chromedriver_win32\\chromedriver.exe\")"
   ]
  },
  {
   "cell_type": "code",
   "execution_count": 73,
   "id": "4509135c",
   "metadata": {},
   "outputs": [],
   "source": [
    "driver.get(\"https://www.google.com/\")"
   ]
  },
  {
   "cell_type": "code",
   "execution_count": 74,
   "id": "4da560fe",
   "metadata": {},
   "outputs": [
    {
     "name": "stdout",
     "output_type": "stream",
     "text": [
      "enter item you want to search fruits\n"
     ]
    }
   ],
   "source": [
    "search=input(\"enter item you want to search \")"
   ]
  },
  {
   "cell_type": "code",
   "execution_count": 75,
   "id": "29c93ddd",
   "metadata": {},
   "outputs": [],
   "source": [
    "item=driver.find_element(By.XPATH,'/html/body/div[1]/div[3]/form/div[1]/div[1]/div[1]/div/div[2]/input')\n",
    "item.send_keys(search)\n"
   ]
  },
  {
   "cell_type": "code",
   "execution_count": 76,
   "id": "09aa4231",
   "metadata": {},
   "outputs": [],
   "source": [
    "search=driver.find_element(By.XPATH,'//input[@class=\"gNO89b\"]')\n",
    "search.click()\n"
   ]
  },
  {
   "cell_type": "code",
   "execution_count": 77,
   "id": "e2ee78cf",
   "metadata": {},
   "outputs": [],
   "source": [
    "img=driver.find_element(By.XPATH,'/html/body/div[7]/div/div[4]/div/div[1]/div/div[1]/div/div[2]/a')\n",
    "img.click()"
   ]
  },
  {
   "cell_type": "code",
   "execution_count": 80,
   "id": "3af7e7c4",
   "metadata": {},
   "outputs": [
    {
     "ename": "JavascriptException",
     "evalue": "Message: javascript error: windows is not defined\n  (Session info: chrome=110.0.5481.178)\nStacktrace:\nBacktrace:\n\t(No symbol) [0x006D37D3]\n\t(No symbol) [0x00668B81]\n\t(No symbol) [0x0056B36D]\n\t(No symbol) [0x0056E0FB]\n\t(No symbol) [0x0056DFD0]\n\t(No symbol) [0x0056EA35]\n\t(No symbol) [0x005D209F]\n\t(No symbol) [0x005BB41C]\n\t(No symbol) [0x005D1215]\n\t(No symbol) [0x005BB216]\n\t(No symbol) [0x00590D97]\n\t(No symbol) [0x0059253D]\n\tGetHandleVerifier [0x0094ABF2+2510930]\n\tGetHandleVerifier [0x00978EC1+2700065]\n\tGetHandleVerifier [0x0097C86C+2714828]\n\tGetHandleVerifier [0x00783480+645344]\n\t(No symbol) [0x00670FD2]\n\t(No symbol) [0x00676C68]\n\t(No symbol) [0x00676D4B]\n\t(No symbol) [0x00680D6B]\n\tBaseThreadInitThunk [0x75F47D69+25]\n\tRtlInitializeExceptionChain [0x7704BB9B+107]\n\tRtlClearBits [0x7704BB1F+191]\n",
     "output_type": "error",
     "traceback": [
      "\u001b[1;31m---------------------------------------------------------------------------\u001b[0m",
      "\u001b[1;31mJavascriptException\u001b[0m                       Traceback (most recent call last)",
      "Input \u001b[1;32mIn [80]\u001b[0m, in \u001b[0;36m<cell line: 1>\u001b[1;34m()\u001b[0m\n\u001b[0;32m      1\u001b[0m \u001b[38;5;28;01mfor\u001b[39;00m _ \u001b[38;5;129;01min\u001b[39;00m \u001b[38;5;28mrange\u001b[39m(\u001b[38;5;241m20\u001b[39m):\n\u001b[1;32m----> 2\u001b[0m     \u001b[43mdriver\u001b[49m\u001b[38;5;241;43m.\u001b[39;49m\u001b[43mexecute_script\u001b[49m\u001b[43m(\u001b[49m\u001b[38;5;124;43m\"\u001b[39;49m\u001b[38;5;124;43mwindows.scrollBy(0,1000)\u001b[39;49m\u001b[38;5;124;43m\"\u001b[39;49m\u001b[43m)\u001b[49m\n\u001b[0;32m      4\u001b[0m img\u001b[38;5;241m=\u001b[39mdriver\u001b[38;5;241m.\u001b[39mfind_elements(By\u001b[38;5;241m.\u001b[39mXPATH,\u001b[38;5;124m'\u001b[39m\u001b[38;5;124m//img[@class=\u001b[39m\u001b[38;5;124m\"\u001b[39m\u001b[38;5;124m bRMDJf islir\u001b[39m\u001b[38;5;124m\"\u001b[39m\u001b[38;5;124m]\u001b[39m\u001b[38;5;124m'\u001b[39m)\n\u001b[0;32m      6\u001b[0m img_url\u001b[38;5;241m=\u001b[39m[]\n",
      "File \u001b[1;32m~\\anaconda3\\lib\\site-packages\\selenium\\webdriver\\remote\\webdriver.py:500\u001b[0m, in \u001b[0;36mWebDriver.execute_script\u001b[1;34m(self, script, *args)\u001b[0m\n\u001b[0;32m    497\u001b[0m converted_args \u001b[38;5;241m=\u001b[39m \u001b[38;5;28mlist\u001b[39m(args)\n\u001b[0;32m    498\u001b[0m command \u001b[38;5;241m=\u001b[39m Command\u001b[38;5;241m.\u001b[39mW3C_EXECUTE_SCRIPT\n\u001b[1;32m--> 500\u001b[0m \u001b[38;5;28;01mreturn\u001b[39;00m \u001b[38;5;28;43mself\u001b[39;49m\u001b[38;5;241;43m.\u001b[39;49m\u001b[43mexecute\u001b[49m\u001b[43m(\u001b[49m\u001b[43mcommand\u001b[49m\u001b[43m,\u001b[49m\u001b[43m \u001b[49m\u001b[43m{\u001b[49m\u001b[38;5;124;43m\"\u001b[39;49m\u001b[38;5;124;43mscript\u001b[39;49m\u001b[38;5;124;43m\"\u001b[39;49m\u001b[43m:\u001b[49m\u001b[43m \u001b[49m\u001b[43mscript\u001b[49m\u001b[43m,\u001b[49m\u001b[43m \u001b[49m\u001b[38;5;124;43m\"\u001b[39;49m\u001b[38;5;124;43margs\u001b[39;49m\u001b[38;5;124;43m\"\u001b[39;49m\u001b[43m:\u001b[49m\u001b[43m \u001b[49m\u001b[43mconverted_args\u001b[49m\u001b[43m}\u001b[49m\u001b[43m)\u001b[49m[\u001b[38;5;124m\"\u001b[39m\u001b[38;5;124mvalue\u001b[39m\u001b[38;5;124m\"\u001b[39m]\n",
      "File \u001b[1;32m~\\anaconda3\\lib\\site-packages\\selenium\\webdriver\\remote\\webdriver.py:440\u001b[0m, in \u001b[0;36mWebDriver.execute\u001b[1;34m(self, driver_command, params)\u001b[0m\n\u001b[0;32m    438\u001b[0m response \u001b[38;5;241m=\u001b[39m \u001b[38;5;28mself\u001b[39m\u001b[38;5;241m.\u001b[39mcommand_executor\u001b[38;5;241m.\u001b[39mexecute(driver_command, params)\n\u001b[0;32m    439\u001b[0m \u001b[38;5;28;01mif\u001b[39;00m response:\n\u001b[1;32m--> 440\u001b[0m     \u001b[38;5;28;43mself\u001b[39;49m\u001b[38;5;241;43m.\u001b[39;49m\u001b[43merror_handler\u001b[49m\u001b[38;5;241;43m.\u001b[39;49m\u001b[43mcheck_response\u001b[49m\u001b[43m(\u001b[49m\u001b[43mresponse\u001b[49m\u001b[43m)\u001b[49m\n\u001b[0;32m    441\u001b[0m     response[\u001b[38;5;124m\"\u001b[39m\u001b[38;5;124mvalue\u001b[39m\u001b[38;5;124m\"\u001b[39m] \u001b[38;5;241m=\u001b[39m \u001b[38;5;28mself\u001b[39m\u001b[38;5;241m.\u001b[39m_unwrap_value(response\u001b[38;5;241m.\u001b[39mget(\u001b[38;5;124m\"\u001b[39m\u001b[38;5;124mvalue\u001b[39m\u001b[38;5;124m\"\u001b[39m, \u001b[38;5;28;01mNone\u001b[39;00m))\n\u001b[0;32m    442\u001b[0m     \u001b[38;5;28;01mreturn\u001b[39;00m response\n",
      "File \u001b[1;32m~\\anaconda3\\lib\\site-packages\\selenium\\webdriver\\remote\\errorhandler.py:245\u001b[0m, in \u001b[0;36mErrorHandler.check_response\u001b[1;34m(self, response)\u001b[0m\n\u001b[0;32m    243\u001b[0m         alert_text \u001b[38;5;241m=\u001b[39m value[\u001b[38;5;124m\"\u001b[39m\u001b[38;5;124malert\u001b[39m\u001b[38;5;124m\"\u001b[39m]\u001b[38;5;241m.\u001b[39mget(\u001b[38;5;124m\"\u001b[39m\u001b[38;5;124mtext\u001b[39m\u001b[38;5;124m\"\u001b[39m)\n\u001b[0;32m    244\u001b[0m     \u001b[38;5;28;01mraise\u001b[39;00m exception_class(message, screen, stacktrace, alert_text)  \u001b[38;5;66;03m# type: ignore[call-arg]  # mypy is not smart enough here\u001b[39;00m\n\u001b[1;32m--> 245\u001b[0m \u001b[38;5;28;01mraise\u001b[39;00m exception_class(message, screen, stacktrace)\n",
      "\u001b[1;31mJavascriptException\u001b[0m: Message: javascript error: windows is not defined\n  (Session info: chrome=110.0.5481.178)\nStacktrace:\nBacktrace:\n\t(No symbol) [0x006D37D3]\n\t(No symbol) [0x00668B81]\n\t(No symbol) [0x0056B36D]\n\t(No symbol) [0x0056E0FB]\n\t(No symbol) [0x0056DFD0]\n\t(No symbol) [0x0056EA35]\n\t(No symbol) [0x005D209F]\n\t(No symbol) [0x005BB41C]\n\t(No symbol) [0x005D1215]\n\t(No symbol) [0x005BB216]\n\t(No symbol) [0x00590D97]\n\t(No symbol) [0x0059253D]\n\tGetHandleVerifier [0x0094ABF2+2510930]\n\tGetHandleVerifier [0x00978EC1+2700065]\n\tGetHandleVerifier [0x0097C86C+2714828]\n\tGetHandleVerifier [0x00783480+645344]\n\t(No symbol) [0x00670FD2]\n\t(No symbol) [0x00676C68]\n\t(No symbol) [0x00676D4B]\n\t(No symbol) [0x00680D6B]\n\tBaseThreadInitThunk [0x75F47D69+25]\n\tRtlInitializeExceptionChain [0x7704BB9B+107]\n\tRtlClearBits [0x7704BB1F+191]\n"
     ]
    }
   ],
   "source": [
    "for _ in range(20):\n",
    "    driver.execute_script(\"windows.scrollBy(0,1000)\")\n",
    "    \n",
    "img=driver.find_elements(By.XPATH,'//img[@class=\" bRMDJf islir\"]')\n",
    "\n",
    "img_url=[]\n",
    "img_data=[]\n",
    "for i in img:\n",
    "    source=img.get_attributes('src')\n",
    "    if source is not None:\n",
    "        if(source[0:4] == 'http'):\n",
    "            img_url.append(source)\n",
    "            \n",
    "for i in range(len(img_url)):\n",
    "    if i>10:\n",
    "        breakBy.XPATH,\n",
    "    print(\"Downloading {0} of {1} images \".format(i,10))\n",
    "    response=requests.get(img_url[i])\n",
    "    file=open(r\"D:\\INTERNSHIP-FLIP ROBO TECH\\downloaded files\"+str(i)+\".jpg\",\"wb\")\n",
    "    file.write(response.conent)"
   ]
  },
  {
   "cell_type": "code",
   "execution_count": null,
   "id": "99894f22",
   "metadata": {},
   "outputs": [],
   "source": []
  },
  {
   "cell_type": "code",
   "execution_count": null,
   "id": "feb5ad0b",
   "metadata": {},
   "outputs": [],
   "source": []
  },
  {
   "cell_type": "markdown",
   "id": "9b13252b",
   "metadata": {},
   "source": [
    "# answer 4"
   ]
  },
  {
   "cell_type": "code",
   "execution_count": null,
   "id": "e0225999",
   "metadata": {},
   "outputs": [],
   "source": []
  },
  {
   "cell_type": "code",
   "execution_count": 85,
   "id": "4321f2fe",
   "metadata": {},
   "outputs": [
    {
     "name": "stdout",
     "output_type": "stream",
     "text": [
      "enter product you want to be searched PIXEL\n"
     ]
    }
   ],
   "source": [
    "driver=webdriver.Chrome(r\"C:\\Users\\ritul pawar\\Downloads\\chromedriver_win32\\chromedriver.exe\")\n",
    "driver.get(\"http://www.flipkart.com/\")\n",
    "\n",
    "search=input(\"enter product you want to be searched \")"
   ]
  },
  {
   "cell_type": "code",
   "execution_count": 86,
   "id": "d4b68854",
   "metadata": {},
   "outputs": [],
   "source": [
    "product=driver.find_element(By.XPATH,'/html/body/div[1]/div/div[1]/div[1]/div[2]/div[2]/form/div/div/input')\n",
    "product.send_keys(search)\n",
    "search=driver.find_element(By.XPATH,'/html/body/div[1]/div/div[1]/div[1]/div[2]/div[2]/form/div/button')\n",
    "search.click()"
   ]
  },
  {
   "cell_type": "code",
   "execution_count": 95,
   "id": "e05fea5b",
   "metadata": {},
   "outputs": [],
   "source": [
    "product_urls=[]\n",
    "start=0\n",
    "end=3\n",
    "\n",
    "for page in range(start,end):\n",
    "    url=driver.find_elements(By.XPATH,'//img[@class=\"_396cs4\"]')\n",
    "    for i in  url:\n",
    "        product_urls.append(i.get_attribute(\"href\"))\n",
    "    next=driver.find_element(By.XPATH,'//a[@class=\"_1LKTO3\"]')\n",
    "    next.click()\n",
    "    "
   ]
  },
  {
   "cell_type": "code",
   "execution_count": null,
   "id": "9fd85f61",
   "metadata": {},
   "outputs": [],
   "source": []
  },
  {
   "cell_type": "code",
   "execution_count": 99,
   "id": "64bf155e",
   "metadata": {},
   "outputs": [
    {
     "ename": "NoSuchWindowException",
     "evalue": "Message: no such window: target window already closed\nfrom unknown error: web view not found\n  (Session info: chrome=110.0.5481.178)\nStacktrace:\nBacktrace:\n\t(No symbol) [0x006D37D3]\n\t(No symbol) [0x00668B81]\n\t(No symbol) [0x0056B36D]\n\t(No symbol) [0x0054E5DA]\n\t(No symbol) [0x005BF0CB]\n\t(No symbol) [0x005D0A56]\n\t(No symbol) [0x005BB216]\n\t(No symbol) [0x00590D97]\n\t(No symbol) [0x0059253D]\n\tGetHandleVerifier [0x0094ABF2+2510930]\n\tGetHandleVerifier [0x00978EC1+2700065]\n\tGetHandleVerifier [0x0097C86C+2714828]\n\tGetHandleVerifier [0x00783480+645344]\n\t(No symbol) [0x00670FD2]\n\t(No symbol) [0x00676C68]\n\t(No symbol) [0x00676D4B]\n\t(No symbol) [0x00680D6B]\n\tBaseThreadInitThunk [0x75F47D69+25]\n\tRtlInitializeExceptionChain [0x7704BB9B+107]\n\tRtlClearBits [0x7704BB1F+191]\n",
     "output_type": "error",
     "traceback": [
      "\u001b[1;31m---------------------------------------------------------------------------\u001b[0m",
      "\u001b[1;31mNoSuchWindowException\u001b[0m                     Traceback (most recent call last)",
      "Input \u001b[1;32mIn [99]\u001b[0m, in \u001b[0;36m<cell line: 1>\u001b[1;34m()\u001b[0m\n\u001b[0;32m      1\u001b[0m \u001b[38;5;28;01mfor\u001b[39;00m url \u001b[38;5;129;01min\u001b[39;00m product_urls:\n\u001b[1;32m----> 2\u001b[0m     \u001b[43mdriver\u001b[49m\u001b[38;5;241;43m.\u001b[39;49m\u001b[43mget\u001b[49m\u001b[43m(\u001b[49m\u001b[43murl\u001b[49m\u001b[43m)\u001b[49m    \n\u001b[0;32m      3\u001b[0m     \u001b[38;5;28;01mtry\u001b[39;00m:\n\u001b[0;32m      4\u001b[0m         brand\u001b[38;5;241m=\u001b[39mdriver\u001b[38;5;241m.\u001b[39mfind_element(By\u001b[38;5;241m.\u001b[39mXPATH,\u001b[38;5;124m'\u001b[39m\u001b[38;5;124m//span[@class=\u001b[39m\u001b[38;5;124m\"\u001b[39m\u001b[38;5;124ma-size-base po-break-word\u001b[39m\u001b[38;5;124m\"\u001b[39m\u001b[38;5;124m]\u001b[39m\u001b[38;5;124m'\u001b[39m)\n",
      "File \u001b[1;32m~\\anaconda3\\lib\\site-packages\\selenium\\webdriver\\remote\\webdriver.py:449\u001b[0m, in \u001b[0;36mWebDriver.get\u001b[1;34m(self, url)\u001b[0m\n\u001b[0;32m    447\u001b[0m \u001b[38;5;28;01mdef\u001b[39;00m \u001b[38;5;21mget\u001b[39m(\u001b[38;5;28mself\u001b[39m, url: \u001b[38;5;28mstr\u001b[39m) \u001b[38;5;241m-\u001b[39m\u001b[38;5;241m>\u001b[39m \u001b[38;5;28;01mNone\u001b[39;00m:\n\u001b[0;32m    448\u001b[0m     \u001b[38;5;124;03m\"\"\"Loads a web page in the current browser session.\"\"\"\u001b[39;00m\n\u001b[1;32m--> 449\u001b[0m     \u001b[38;5;28;43mself\u001b[39;49m\u001b[38;5;241;43m.\u001b[39;49m\u001b[43mexecute\u001b[49m\u001b[43m(\u001b[49m\u001b[43mCommand\u001b[49m\u001b[38;5;241;43m.\u001b[39;49m\u001b[43mGET\u001b[49m\u001b[43m,\u001b[49m\u001b[43m \u001b[49m\u001b[43m{\u001b[49m\u001b[38;5;124;43m\"\u001b[39;49m\u001b[38;5;124;43murl\u001b[39;49m\u001b[38;5;124;43m\"\u001b[39;49m\u001b[43m:\u001b[49m\u001b[43m \u001b[49m\u001b[43murl\u001b[49m\u001b[43m}\u001b[49m\u001b[43m)\u001b[49m\n",
      "File \u001b[1;32m~\\anaconda3\\lib\\site-packages\\selenium\\webdriver\\remote\\webdriver.py:440\u001b[0m, in \u001b[0;36mWebDriver.execute\u001b[1;34m(self, driver_command, params)\u001b[0m\n\u001b[0;32m    438\u001b[0m response \u001b[38;5;241m=\u001b[39m \u001b[38;5;28mself\u001b[39m\u001b[38;5;241m.\u001b[39mcommand_executor\u001b[38;5;241m.\u001b[39mexecute(driver_command, params)\n\u001b[0;32m    439\u001b[0m \u001b[38;5;28;01mif\u001b[39;00m response:\n\u001b[1;32m--> 440\u001b[0m     \u001b[38;5;28;43mself\u001b[39;49m\u001b[38;5;241;43m.\u001b[39;49m\u001b[43merror_handler\u001b[49m\u001b[38;5;241;43m.\u001b[39;49m\u001b[43mcheck_response\u001b[49m\u001b[43m(\u001b[49m\u001b[43mresponse\u001b[49m\u001b[43m)\u001b[49m\n\u001b[0;32m    441\u001b[0m     response[\u001b[38;5;124m\"\u001b[39m\u001b[38;5;124mvalue\u001b[39m\u001b[38;5;124m\"\u001b[39m] \u001b[38;5;241m=\u001b[39m \u001b[38;5;28mself\u001b[39m\u001b[38;5;241m.\u001b[39m_unwrap_value(response\u001b[38;5;241m.\u001b[39mget(\u001b[38;5;124m\"\u001b[39m\u001b[38;5;124mvalue\u001b[39m\u001b[38;5;124m\"\u001b[39m, \u001b[38;5;28;01mNone\u001b[39;00m))\n\u001b[0;32m    442\u001b[0m     \u001b[38;5;28;01mreturn\u001b[39;00m response\n",
      "File \u001b[1;32m~\\anaconda3\\lib\\site-packages\\selenium\\webdriver\\remote\\errorhandler.py:245\u001b[0m, in \u001b[0;36mErrorHandler.check_response\u001b[1;34m(self, response)\u001b[0m\n\u001b[0;32m    243\u001b[0m         alert_text \u001b[38;5;241m=\u001b[39m value[\u001b[38;5;124m\"\u001b[39m\u001b[38;5;124malert\u001b[39m\u001b[38;5;124m\"\u001b[39m]\u001b[38;5;241m.\u001b[39mget(\u001b[38;5;124m\"\u001b[39m\u001b[38;5;124mtext\u001b[39m\u001b[38;5;124m\"\u001b[39m)\n\u001b[0;32m    244\u001b[0m     \u001b[38;5;28;01mraise\u001b[39;00m exception_class(message, screen, stacktrace, alert_text)  \u001b[38;5;66;03m# type: ignore[call-arg]  # mypy is not smart enough here\u001b[39;00m\n\u001b[1;32m--> 245\u001b[0m \u001b[38;5;28;01mraise\u001b[39;00m exception_class(message, screen, stacktrace)\n",
      "\u001b[1;31mNoSuchWindowException\u001b[0m: Message: no such window: target window already closed\nfrom unknown error: web view not found\n  (Session info: chrome=110.0.5481.178)\nStacktrace:\nBacktrace:\n\t(No symbol) [0x006D37D3]\n\t(No symbol) [0x00668B81]\n\t(No symbol) [0x0056B36D]\n\t(No symbol) [0x0054E5DA]\n\t(No symbol) [0x005BF0CB]\n\t(No symbol) [0x005D0A56]\n\t(No symbol) [0x005BB216]\n\t(No symbol) [0x00590D97]\n\t(No symbol) [0x0059253D]\n\tGetHandleVerifier [0x0094ABF2+2510930]\n\tGetHandleVerifier [0x00978EC1+2700065]\n\tGetHandleVerifier [0x0097C86C+2714828]\n\tGetHandleVerifier [0x00783480+645344]\n\t(No symbol) [0x00670FD2]\n\t(No symbol) [0x00676C68]\n\t(No symbol) [0x00676D4B]\n\t(No symbol) [0x00680D6B]\n\tBaseThreadInitThunk [0x75F47D69+25]\n\tRtlInitializeExceptionChain [0x7704BB9B+107]\n\tRtlClearBits [0x7704BB1F+191]\n"
     ]
    }
   ],
   "source": [
    "for url in product_urls:\n",
    "    driver.get(url)    \n",
    "    try:\n",
    "        brand=driver.find_element(By.XPATH,'')\n",
    "        brand.text\n",
    "    except NoSuchElementException:\n",
    "        brand.append('-')    \n",
    "    try:   \n",
    "        name=driver.find_element(By.XPATH,'')\n",
    "        name.append(product.text)\n",
    "    except NoSuchElementException:\n",
    "        name.append('-')    \n",
    "    try:    \n",
    "        colour=driver.find_element(By.XPATH,'//span[@class=\"a-price-whole\"]')\n",
    "        colour.text\n",
    "    except NoSuchElementException:\n",
    "        colour.append('-')  \n",
    "    try:    \n",
    "        ram=driver.find_element(By.XPATH,'//a[@class=\"a-size-small a-link-normal a-text-normal\"]')\n",
    "        ram.text/7\n",
    "    except NoSuchElementException:\n",
    "        ram.append('-')      \n",
    "    try:   \n",
    "        rom=driver.find_element(By.XPATH,'//span[@class=\"a-text-bold\"]')\n",
    "        rom.text\n",
    "    except NoSuchElementException:\n",
    "        rom.append('-') \n",
    "    try:    \n",
    "        pricamera=driver.find_element(By.XPATH,'//span[@class=\"a-size-medium a-color-success\"]')\n",
    "        pricamera.text\n",
    "    except NoSuchElementException:\n",
    "        pricamera.append('-')     \n",
    "    try:    \n",
    "        seccamera=driver.find_element(By.XPATH,'//a[@class=\"a-link-normal\"]')\n",
    "        seccamera.text\n",
    "    except NoSuchElementException:\n",
    "        seccamera.append('-')\n",
    "    try:    \n",
    "        display=driver.find_element(By.XPATH,'//a[@class=\"a-link-normal\"]')\n",
    "        display.text\n",
    "    except NoSuchElementException:\n",
    "        display.append('-')\n",
    "    try:    \n",
    "        battery=driver.find_element(By.XPATH,'//a[@class=\"a-link-normal\"]')\n",
    "        battery.text\n",
    "    except NoSuchElementException:\n",
    "        battery.append('-')\n",
    "    try:    \n",
    "        price=driver.find_element(By.XPATH,'//a[@class=\"a-link-normal\"]')\n",
    "        price.text\n",
    "    except NoSuchElementException:\n",
    "        price.append('-')\n",
    "    try:    \n",
    "        product_url=driver.find_element(By.XPATH,'//a[@class=\"a-link-normal\"]')\n",
    "        product_url.text\n",
    "    except NoSuchElementException:\n",
    "        product_url.append('-')"
   ]
  },
  {
   "cell_type": "code",
   "execution_count": 101,
   "id": "fb301bf7",
   "metadata": {},
   "outputs": [
    {
     "ename": "NameError",
     "evalue": "name 'name' is not defined",
     "output_type": "error",
     "traceback": [
      "\u001b[1;31m---------------------------------------------------------------------------\u001b[0m",
      "\u001b[1;31mNameError\u001b[0m                                 Traceback (most recent call last)",
      "Input \u001b[1;32mIn [101]\u001b[0m, in \u001b[0;36m<cell line: 1>\u001b[1;34m()\u001b[0m\n\u001b[1;32m----> 1\u001b[0m \u001b[38;5;28mprint\u001b[39m(\u001b[38;5;28mlen\u001b[39m({\u001b[38;5;124m'\u001b[39m\u001b[38;5;124mBrand Name\u001b[39m\u001b[38;5;124m'\u001b[39m:brand, \u001b[38;5;124m'\u001b[39m\u001b[38;5;124mSmartphone name\u001b[39m\u001b[38;5;124m'\u001b[39m: \u001b[43mname\u001b[49m, \u001b[38;5;124m'\u001b[39m\u001b[38;5;124mColour\u001b[39m\u001b[38;5;124m'\u001b[39m:colour, \u001b[38;5;124m'\u001b[39m\u001b[38;5;124mRAM\u001b[39m\u001b[38;5;124m'\u001b[39m:ram, \u001b[38;5;124m'\u001b[39m\u001b[38;5;124mStorage(ROM)\u001b[39m\u001b[38;5;124m'\u001b[39m:rom, \u001b[38;5;124m'\u001b[39m\u001b[38;5;124mPrimary Camera\u001b[39m\u001b[38;5;124m'\u001b[39m:pricamera,\n\u001b[0;32m      2\u001b[0m \u001b[38;5;124m'\u001b[39m\u001b[38;5;124mSecondary Camera\u001b[39m\u001b[38;5;124m'\u001b[39m:seccamera, \u001b[38;5;124m'\u001b[39m\u001b[38;5;124mDisplay Size\u001b[39m\u001b[38;5;124m'\u001b[39m:display, \u001b[38;5;124m'\u001b[39m\u001b[38;5;124mBattery Capacity\u001b[39m\u001b[38;5;124m'\u001b[39m:battery, \u001b[38;5;124m'\u001b[39m\u001b[38;5;124mPrice\u001b[39m\u001b[38;5;124m'\u001b[39m:price, \u001b[38;5;124m'\u001b[39m\u001b[38;5;124mProduct URL\u001b[39m\u001b[38;5;124m'\u001b[39m:product}))\n",
      "\u001b[1;31mNameError\u001b[0m: name 'name' is not defined"
     ]
    }
   ],
   "source": [
    "print(len({'Brand Name':brand, 'Smartphone name':name, 'Colour':colour, 'RAM':ram, 'Storage(ROM)':rom, 'Primary Camera':pricamera,\n",
    "'Secondary Camera':seccamera, 'Display Size':display, 'Battery Capacity':battery, 'Price':price, 'Product URL':product}))"
   ]
  },
  {
   "cell_type": "code",
   "execution_count": 102,
   "id": "d6bbe273",
   "metadata": {},
   "outputs": [
    {
     "ename": "NameError",
     "evalue": "name 'name' is not defined",
     "output_type": "error",
     "traceback": [
      "\u001b[1;31m---------------------------------------------------------------------------\u001b[0m",
      "\u001b[1;31mNameError\u001b[0m                                 Traceback (most recent call last)",
      "Input \u001b[1;32mIn [102]\u001b[0m, in \u001b[0;36m<cell line: 1>\u001b[1;34m()\u001b[0m\n\u001b[1;32m----> 1\u001b[0m df\u001b[38;5;241m=\u001b[39mpd\u001b[38;5;241m.\u001b[39mDataFrame({\u001b[38;5;124m'\u001b[39m\u001b[38;5;124mBrand Name\u001b[39m\u001b[38;5;124m'\u001b[39m:brand, \u001b[38;5;124m'\u001b[39m\u001b[38;5;124mSmartphone name\u001b[39m\u001b[38;5;124m'\u001b[39m:\u001b[43mname\u001b[49m, \u001b[38;5;124m'\u001b[39m\u001b[38;5;124mColour\u001b[39m\u001b[38;5;124m'\u001b[39m:colour, \u001b[38;5;124m'\u001b[39m\u001b[38;5;124mRAM\u001b[39m\u001b[38;5;124m'\u001b[39m:ram, \u001b[38;5;124m'\u001b[39m\u001b[38;5;124mStorage(ROM)\u001b[39m\u001b[38;5;124m'\u001b[39m:rom, \u001b[38;5;124m'\u001b[39m\u001b[38;5;124mPrimary Camera\u001b[39m\u001b[38;5;124m'\u001b[39m:pricamera,\n\u001b[0;32m      2\u001b[0m \u001b[38;5;124m'\u001b[39m\u001b[38;5;124mSecondary Camera\u001b[39m\u001b[38;5;124m'\u001b[39m:seccamera, \u001b[38;5;124m'\u001b[39m\u001b[38;5;124mDisplay Size\u001b[39m\u001b[38;5;124m'\u001b[39m:display, \u001b[38;5;124m'\u001b[39m\u001b[38;5;124mBattery Capacity\u001b[39m\u001b[38;5;124m'\u001b[39m:battery, \u001b[38;5;124m'\u001b[39m\u001b[38;5;124mPrice\u001b[39m\u001b[38;5;124m'\u001b[39m:price, \u001b[38;5;124m'\u001b[39m\u001b[38;5;124mProduct URL\u001b[39m\u001b[38;5;124m'\u001b[39m:product})\n\u001b[0;32m      3\u001b[0m df\n",
      "\u001b[1;31mNameError\u001b[0m: name 'name' is not defined"
     ]
    }
   ],
   "source": [
    "df=pd.DataFrame({'Brand Name':brand, 'Smartphone name':name, 'Colour':colour, 'RAM':ram, 'Storage(ROM)':rom, 'Primary Camera':pricamera,\n",
    "'Secondary Camera':seccamera, 'Display Size':display, 'Battery Capacity':battery, 'Price':price, 'Product URL':product})\n",
    "df"
   ]
  },
  {
   "cell_type": "code",
   "execution_count": 103,
   "id": "0b716323",
   "metadata": {},
   "outputs": [],
   "source": [
    "df.to_csv('phone.csv')"
   ]
  },
  {
   "cell_type": "code",
   "execution_count": null,
   "id": "a34e9b6d",
   "metadata": {},
   "outputs": [],
   "source": []
  },
  {
   "cell_type": "code",
   "execution_count": null,
   "id": "8da4e144",
   "metadata": {},
   "outputs": [],
   "source": []
  },
  {
   "cell_type": "markdown",
   "id": "7974e356",
   "metadata": {},
   "source": [
    "# answer 5"
   ]
  },
  {
   "cell_type": "code",
   "execution_count": null,
   "id": "fc42f679",
   "metadata": {},
   "outputs": [],
   "source": []
  },
  {
   "cell_type": "code",
   "execution_count": null,
   "id": "8f399df3",
   "metadata": {},
   "outputs": [],
   "source": [
    "driver=webdriver.Chrome(r\"C:\\Users\\ritul pawar\\Downloads\\chromedriver_win32\\chromedriver.exe\")\n",
    "driver.get(\"https://www.google.com/maps/@28.4140024,77.0679584,15z\")\n",
    "\n",
    "search=input(\"enter city you want to search \")"
   ]
  },
  {
   "cell_type": "code",
   "execution_count": 12,
   "id": "84504720",
   "metadata": {},
   "outputs": [],
   "source": [
    "item=driver.find_element(By.XPATH,'/html/body/div[3]/div[9]/div[3]/div[1]/div[1]/div[1]/div[2]/form/div[2]/div[3]/div/input[1]')\n",
    "item.send_keys(search)\n"
   ]
  },
  {
   "cell_type": "code",
   "execution_count": 13,
   "id": "f79fcfce",
   "metadata": {},
   "outputs": [],
   "source": [
    "search=driver.find_element(By.XPATH,'/html/body/div[3]/div[9]/div[3]/div[1]/div[1]/div[1]/div[2]/div[1]/button')\n",
    "search.click()"
   ]
  },
  {
   "cell_type": "code",
   "execution_count": 14,
   "id": "5068d5a6",
   "metadata": {},
   "outputs": [
    {
     "name": "stdout",
     "output_type": "stream",
     "text": [
      "Latitude: 28.6437954, Longitude: 76.8130345\n"
     ]
    }
   ],
   "source": [
    "url = driver.current_url\n",
    "coords_index = url.find('@') + 1\n",
    "coords = url[coords_index:].split(',')\n",
    "latitude = coords[0]\n",
    "longitude = coords[1]\n",
    "\n",
    "print(f'Latitude: {latitude}, Longitude: {longitude}')"
   ]
  },
  {
   "cell_type": "code",
   "execution_count": null,
   "id": "da017afa",
   "metadata": {},
   "outputs": [],
   "source": []
  },
  {
   "cell_type": "markdown",
   "id": "a46b282c",
   "metadata": {},
   "source": [
    "# answer 6"
   ]
  },
  {
   "cell_type": "code",
   "execution_count": null,
   "id": "24bf0c7c",
   "metadata": {},
   "outputs": [],
   "source": []
  },
  {
   "cell_type": "code",
   "execution_count": 4,
   "id": "638871ad",
   "metadata": {},
   "outputs": [],
   "source": [
    "driver=webdriver.Chrome(r\"C:\\Users\\ritul pawar\\Downloads\\chromedriver_win32\\chromedriver.exe\")\n",
    "driver.get(\"https://www.digit.in/\")"
   ]
  },
  {
   "cell_type": "code",
   "execution_count": null,
   "id": "111aa791",
   "metadata": {},
   "outputs": [],
   "source": [
    "gaming=driver.find_element(By.XPATH,'/html/body/div[2]/div/ul/li[7]/a').click()"
   ]
  },
  {
   "cell_type": "code",
   "execution_count": 55,
   "id": "be4a808c",
   "metadata": {},
   "outputs": [
    {
     "ename": "ElementClickInterceptedException",
     "evalue": "Message: element click intercepted: Element <a href=\"https://www.digit.in/laptops/\">...</a> is not clickable at point (208, 179). Other element would receive the click: <a href=\"https://www.digit.in/laptops/\">...</a>\n  (Session info: chrome=110.0.5481.178)\nStacktrace:\nBacktrace:\n\t(No symbol) [0x011237D3]\n\t(No symbol) [0x010B8B81]\n\t(No symbol) [0x00FBB36D]\n\t(No symbol) [0x00FF4E3B]\n\t(No symbol) [0x00FF26DB]\n\t(No symbol) [0x00FEFD0B]\n\t(No symbol) [0x00FEE4D8]\n\t(No symbol) [0x00FE3253]\n\t(No symbol) [0x0100B41C]\n\t(No symbol) [0x00FE2B96]\n\t(No symbol) [0x0100B774]\n\t(No symbol) [0x01021215]\n\t(No symbol) [0x0100B216]\n\t(No symbol) [0x00FE0D97]\n\t(No symbol) [0x00FE253D]\n\tGetHandleVerifier [0x0139ABF2+2510930]\n\tGetHandleVerifier [0x013C8EC1+2700065]\n\tGetHandleVerifier [0x013CC86C+2714828]\n\tGetHandleVerifier [0x011D3480+645344]\n\t(No symbol) [0x010C0FD2]\n\t(No symbol) [0x010C6C68]\n\t(No symbol) [0x010C6D4B]\n\t(No symbol) [0x010D0D6B]\n\tBaseThreadInitThunk [0x75F47D69+25]\n\tRtlInitializeExceptionChain [0x7704BB9B+107]\n\tRtlClearBits [0x7704BB1F+191]\n",
     "output_type": "error",
     "traceback": [
      "\u001b[1;31m---------------------------------------------------------------------------\u001b[0m",
      "\u001b[1;31mElementClickInterceptedException\u001b[0m          Traceback (most recent call last)",
      "Input \u001b[1;32mIn [55]\u001b[0m, in \u001b[0;36m<cell line: 1>\u001b[1;34m()\u001b[0m\n\u001b[1;32m----> 1\u001b[0m laptops\u001b[38;5;241m=\u001b[39m\u001b[43mdriver\u001b[49m\u001b[38;5;241;43m.\u001b[39;49m\u001b[43mfind_element\u001b[49m\u001b[43m(\u001b[49m\u001b[43mBy\u001b[49m\u001b[38;5;241;43m.\u001b[39;49m\u001b[43mXPATH\u001b[49m\u001b[43m,\u001b[49m\u001b[38;5;124;43m'\u001b[39;49m\u001b[38;5;124;43m/html/body/div[2]/div/ul/li[7]/div/div/div[2]/div/ul[1]/li[2]/a\u001b[39;49m\u001b[38;5;124;43m'\u001b[39;49m\u001b[43m)\u001b[49m\u001b[38;5;241;43m.\u001b[39;49m\u001b[43mclick\u001b[49m\u001b[43m(\u001b[49m\u001b[43m)\u001b[49m\n",
      "File \u001b[1;32m~\\anaconda3\\lib\\site-packages\\selenium\\webdriver\\remote\\webelement.py:93\u001b[0m, in \u001b[0;36mWebElement.click\u001b[1;34m(self)\u001b[0m\n\u001b[0;32m     91\u001b[0m \u001b[38;5;28;01mdef\u001b[39;00m \u001b[38;5;21mclick\u001b[39m(\u001b[38;5;28mself\u001b[39m) \u001b[38;5;241m-\u001b[39m\u001b[38;5;241m>\u001b[39m \u001b[38;5;28;01mNone\u001b[39;00m:\n\u001b[0;32m     92\u001b[0m     \u001b[38;5;124;03m\"\"\"Clicks the element.\"\"\"\u001b[39;00m\n\u001b[1;32m---> 93\u001b[0m     \u001b[38;5;28;43mself\u001b[39;49m\u001b[38;5;241;43m.\u001b[39;49m\u001b[43m_execute\u001b[49m\u001b[43m(\u001b[49m\u001b[43mCommand\u001b[49m\u001b[38;5;241;43m.\u001b[39;49m\u001b[43mCLICK_ELEMENT\u001b[49m\u001b[43m)\u001b[49m\n",
      "File \u001b[1;32m~\\anaconda3\\lib\\site-packages\\selenium\\webdriver\\remote\\webelement.py:403\u001b[0m, in \u001b[0;36mWebElement._execute\u001b[1;34m(self, command, params)\u001b[0m\n\u001b[0;32m    401\u001b[0m     params \u001b[38;5;241m=\u001b[39m {}\n\u001b[0;32m    402\u001b[0m params[\u001b[38;5;124m\"\u001b[39m\u001b[38;5;124mid\u001b[39m\u001b[38;5;124m\"\u001b[39m] \u001b[38;5;241m=\u001b[39m \u001b[38;5;28mself\u001b[39m\u001b[38;5;241m.\u001b[39m_id\n\u001b[1;32m--> 403\u001b[0m \u001b[38;5;28;01mreturn\u001b[39;00m \u001b[38;5;28;43mself\u001b[39;49m\u001b[38;5;241;43m.\u001b[39;49m\u001b[43m_parent\u001b[49m\u001b[38;5;241;43m.\u001b[39;49m\u001b[43mexecute\u001b[49m\u001b[43m(\u001b[49m\u001b[43mcommand\u001b[49m\u001b[43m,\u001b[49m\u001b[43m \u001b[49m\u001b[43mparams\u001b[49m\u001b[43m)\u001b[49m\n",
      "File \u001b[1;32m~\\anaconda3\\lib\\site-packages\\selenium\\webdriver\\remote\\webdriver.py:440\u001b[0m, in \u001b[0;36mWebDriver.execute\u001b[1;34m(self, driver_command, params)\u001b[0m\n\u001b[0;32m    438\u001b[0m response \u001b[38;5;241m=\u001b[39m \u001b[38;5;28mself\u001b[39m\u001b[38;5;241m.\u001b[39mcommand_executor\u001b[38;5;241m.\u001b[39mexecute(driver_command, params)\n\u001b[0;32m    439\u001b[0m \u001b[38;5;28;01mif\u001b[39;00m response:\n\u001b[1;32m--> 440\u001b[0m     \u001b[38;5;28;43mself\u001b[39;49m\u001b[38;5;241;43m.\u001b[39;49m\u001b[43merror_handler\u001b[49m\u001b[38;5;241;43m.\u001b[39;49m\u001b[43mcheck_response\u001b[49m\u001b[43m(\u001b[49m\u001b[43mresponse\u001b[49m\u001b[43m)\u001b[49m\n\u001b[0;32m    441\u001b[0m     response[\u001b[38;5;124m\"\u001b[39m\u001b[38;5;124mvalue\u001b[39m\u001b[38;5;124m\"\u001b[39m] \u001b[38;5;241m=\u001b[39m \u001b[38;5;28mself\u001b[39m\u001b[38;5;241m.\u001b[39m_unwrap_value(response\u001b[38;5;241m.\u001b[39mget(\u001b[38;5;124m\"\u001b[39m\u001b[38;5;124mvalue\u001b[39m\u001b[38;5;124m\"\u001b[39m, \u001b[38;5;28;01mNone\u001b[39;00m))\n\u001b[0;32m    442\u001b[0m     \u001b[38;5;28;01mreturn\u001b[39;00m response\n",
      "File \u001b[1;32m~\\anaconda3\\lib\\site-packages\\selenium\\webdriver\\remote\\errorhandler.py:245\u001b[0m, in \u001b[0;36mErrorHandler.check_response\u001b[1;34m(self, response)\u001b[0m\n\u001b[0;32m    243\u001b[0m         alert_text \u001b[38;5;241m=\u001b[39m value[\u001b[38;5;124m\"\u001b[39m\u001b[38;5;124malert\u001b[39m\u001b[38;5;124m\"\u001b[39m]\u001b[38;5;241m.\u001b[39mget(\u001b[38;5;124m\"\u001b[39m\u001b[38;5;124mtext\u001b[39m\u001b[38;5;124m\"\u001b[39m)\n\u001b[0;32m    244\u001b[0m     \u001b[38;5;28;01mraise\u001b[39;00m exception_class(message, screen, stacktrace, alert_text)  \u001b[38;5;66;03m# type: ignore[call-arg]  # mypy is not smart enough here\u001b[39;00m\n\u001b[1;32m--> 245\u001b[0m \u001b[38;5;28;01mraise\u001b[39;00m exception_class(message, screen, stacktrace)\n",
      "\u001b[1;31mElementClickInterceptedException\u001b[0m: Message: element click intercepted: Element <a href=\"https://www.digit.in/laptops/\">...</a> is not clickable at point (208, 179). Other element would receive the click: <a href=\"https://www.digit.in/laptops/\">...</a>\n  (Session info: chrome=110.0.5481.178)\nStacktrace:\nBacktrace:\n\t(No symbol) [0x011237D3]\n\t(No symbol) [0x010B8B81]\n\t(No symbol) [0x00FBB36D]\n\t(No symbol) [0x00FF4E3B]\n\t(No symbol) [0x00FF26DB]\n\t(No symbol) [0x00FEFD0B]\n\t(No symbol) [0x00FEE4D8]\n\t(No symbol) [0x00FE3253]\n\t(No symbol) [0x0100B41C]\n\t(No symbol) [0x00FE2B96]\n\t(No symbol) [0x0100B774]\n\t(No symbol) [0x01021215]\n\t(No symbol) [0x0100B216]\n\t(No symbol) [0x00FE0D97]\n\t(No symbol) [0x00FE253D]\n\tGetHandleVerifier [0x0139ABF2+2510930]\n\tGetHandleVerifier [0x013C8EC1+2700065]\n\tGetHandleVerifier [0x013CC86C+2714828]\n\tGetHandleVerifier [0x011D3480+645344]\n\t(No symbol) [0x010C0FD2]\n\t(No symbol) [0x010C6C68]\n\t(No symbol) [0x010C6D4B]\n\t(No symbol) [0x010D0D6B]\n\tBaseThreadInitThunk [0x75F47D69+25]\n\tRtlInitializeExceptionChain [0x7704BB9B+107]\n\tRtlClearBits [0x7704BB1F+191]\n"
     ]
    }
   ],
   "source": [
    "laptops=driver.find_element(By.XPATH,'/html/body/div[2]/div/ul/li[7]/div/div/div[2]/div/ul[1]/li[2]/a').click()"
   ]
  },
  {
   "cell_type": "code",
   "execution_count": null,
   "id": "a29043fc",
   "metadata": {},
   "outputs": [],
   "source": [
    "bestlaptops=driver.find_element(By.XPATH,'/html/body/div[7]/div/div/div[2]/div[1]/ul/li[10]/a').click()"
   ]
  },
  {
   "cell_type": "code",
   "execution_count": 57,
   "id": "d4ea8848",
   "metadata": {},
   "outputs": [
    {
     "ename": "AttributeError",
     "evalue": "'NoneType' object has no attribute 'find_elements_by_class_name'",
     "output_type": "error",
     "traceback": [
      "\u001b[1;31m---------------------------------------------------------------------------\u001b[0m",
      "\u001b[1;31mAttributeError\u001b[0m                            Traceback (most recent call last)",
      "Input \u001b[1;32mIn [57]\u001b[0m, in \u001b[0;36m<cell line: 1>\u001b[1;34m()\u001b[0m\n\u001b[1;32m----> 1\u001b[0m specs \u001b[38;5;241m=\u001b[39m \u001b[43mbestlaptops\u001b[49m\u001b[38;5;241;43m.\u001b[39;49m\u001b[43mfind_elements_by_class_name\u001b[49m(\u001b[38;5;124m'\u001b[39m\u001b[38;5;124mspec-value\u001b[39m\u001b[38;5;124m'\u001b[39m)\n\u001b[0;32m      3\u001b[0m     \u001b[38;5;66;03m# extract the relevant specs\u001b[39;00m\n\u001b[0;32m      4\u001b[0m processor \u001b[38;5;241m=\u001b[39m specs[\u001b[38;5;241m0\u001b[39m]\u001b[38;5;241m.\u001b[39mtext\n",
      "\u001b[1;31mAttributeError\u001b[0m: 'NoneType' object has no attribute 'find_elements_by_class_name'"
     ]
    }
   ],
   "source": [
    "specs = bestlaptops.find_elements_by_class_name('spec-value')\n",
    "    \n",
    "    # extract the relevant specs\n",
    "processor = specs[0].text\n",
    "memory = specs[1].text\n",
    "storage = specs[2].text\n",
    "display = specs[3].text\n",
    "graphics = specs[4].text\n",
    "os = specs[5].text\n",
    "    \n",
    "   \n",
    "    "
   ]
  },
  {
   "cell_type": "code",
   "execution_count": null,
   "id": "9edf66e9",
   "metadata": {},
   "outputs": [],
   "source": [
    " \n",
    "print(f'Name: {name}')\n",
    "print(f'Processor: {processor}')\n",
    "print(f'Memory: {memory}')\n",
    "print(f'Storage: {storage}')\n",
    "print(f'Display: {display}')\n",
    "print(f'Graphics: {graphics}')\n",
    "print(f'OS: {os}')\n",
    "print('\\n')"
   ]
  },
  {
   "cell_type": "code",
   "execution_count": null,
   "id": "425bf8f1",
   "metadata": {},
   "outputs": [],
   "source": []
  },
  {
   "cell_type": "markdown",
   "id": "fffb4c32",
   "metadata": {},
   "source": [
    "# answer 7"
   ]
  },
  {
   "cell_type": "code",
   "execution_count": 41,
   "id": "4ae8feb8",
   "metadata": {},
   "outputs": [],
   "source": [
    "driver=webdriver.Chrome(r\"C:\\Users\\ritul pawar\\Downloads\\chromedriver_win32\\chromedriver.exe\")"
   ]
  },
  {
   "cell_type": "code",
   "execution_count": 42,
   "id": "98981897",
   "metadata": {},
   "outputs": [],
   "source": [
    "driver.get(\"http://www.forbes.com/\")"
   ]
  },
  {
   "cell_type": "code",
   "execution_count": 44,
   "id": "bf595226",
   "metadata": {},
   "outputs": [],
   "source": [
    "search=driver.find_element(By.XPATH,'/html/body/div[1]/header/nav/div[1]/div/div/div[1]').click()\n"
   ]
  },
  {
   "cell_type": "code",
   "execution_count": 45,
   "id": "a2a1f43d",
   "metadata": {},
   "outputs": [],
   "source": [
    "li=driver.find_element(By.XPATH,'/html/body/div[1]/header/nav/div[1]/div/div/div[2]/ul/li[1]/div[1]').click()\n"
   ]
  },
  {
   "cell_type": "code",
   "execution_count": 46,
   "id": "d498aa63",
   "metadata": {},
   "outputs": [],
   "source": [
    "bill=driver.find_element(By.XPATH,'/html/body/div[1]/header/nav/div[1]/div/div/div[2]/ul/li[1]/div[2]/div[3]/ul/li[1]').click()\n"
   ]
  },
  {
   "cell_type": "code",
   "execution_count": 52,
   "id": "a5c45afa",
   "metadata": {},
   "outputs": [
    {
     "ename": "NoSuchWindowException",
     "evalue": "Message: no such window: target window already closed\nfrom unknown error: web view not found\n  (Session info: chrome=110.0.5481.178)\nStacktrace:\nBacktrace:\n\t(No symbol) [0x011237D3]\n\t(No symbol) [0x010B8B81]\n\t(No symbol) [0x00FBB36D]\n\t(No symbol) [0x00F9E5DA]\n\t(No symbol) [0x0100F0CB]\n\t(No symbol) [0x01020A56]\n\t(No symbol) [0x0100B216]\n\t(No symbol) [0x00FE0D97]\n\t(No symbol) [0x00FE253D]\n\tGetHandleVerifier [0x0139ABF2+2510930]\n\tGetHandleVerifier [0x013C8EC1+2700065]\n\tGetHandleVerifier [0x013CC86C+2714828]\n\tGetHandleVerifier [0x011D3480+645344]\n\t(No symbol) [0x010C0FD2]\n\t(No symbol) [0x010C6C68]\n\t(No symbol) [0x010C6D4B]\n\t(No symbol) [0x010D0D6B]\n\tBaseThreadInitThunk [0x75F47D69+25]\n\tRtlInitializeExceptionChain [0x7704BB9B+107]\n\tRtlClearBits [0x7704BB1F+191]\n",
     "output_type": "error",
     "traceback": [
      "\u001b[1;31m---------------------------------------------------------------------------\u001b[0m",
      "\u001b[1;31mNoSuchWindowException\u001b[0m                     Traceback (most recent call last)",
      "Input \u001b[1;32mIn [52]\u001b[0m, in \u001b[0;36m<cell line: 3>\u001b[1;34m()\u001b[0m\n\u001b[0;32m      2\u001b[0m end\u001b[38;5;241m=\u001b[39m\u001b[38;5;241m14\u001b[39m\n\u001b[0;32m      3\u001b[0m \u001b[38;5;28;01mfor\u001b[39;00m page \u001b[38;5;129;01min\u001b[39;00m \u001b[38;5;28mrange\u001b[39m(start,end):\n\u001b[1;32m----> 4\u001b[0m     rank_tags\u001b[38;5;241m=\u001b[39m\u001b[43mdriver\u001b[49m\u001b[38;5;241;43m.\u001b[39;49m\u001b[43mfind_elements\u001b[49m\u001b[43m(\u001b[49m\u001b[43mBy\u001b[49m\u001b[38;5;241;43m.\u001b[39;49m\u001b[43mXPATH\u001b[49m\u001b[43m,\u001b[49m\u001b[38;5;124;43m'\u001b[39;49m\u001b[38;5;124;43m//div[@class=\u001b[39;49m\u001b[38;5;124;43m\"\u001b[39;49m\u001b[38;5;124;43mrank\u001b[39;49m\u001b[38;5;124;43m\"\u001b[39;49m\u001b[38;5;124;43m]\u001b[39;49m\u001b[38;5;124;43m'\u001b[39;49m\u001b[43m)\u001b[49m\n\u001b[0;32m      5\u001b[0m \u001b[38;5;28;01mfor\u001b[39;00m i \u001b[38;5;129;01min\u001b[39;00m rank_tags:    \n\u001b[0;32m      6\u001b[0m     rank\u001b[38;5;241m=\u001b[39mi\u001b[38;5;241m.\u001b[39mtext\n",
      "File \u001b[1;32m~\\anaconda3\\lib\\site-packages\\selenium\\webdriver\\remote\\webdriver.py:860\u001b[0m, in \u001b[0;36mWebDriver.find_elements\u001b[1;34m(self, by, value)\u001b[0m\n\u001b[0;32m    856\u001b[0m     value \u001b[38;5;241m=\u001b[39m \u001b[38;5;124mf\u001b[39m\u001b[38;5;124m'\u001b[39m\u001b[38;5;124m[name=\u001b[39m\u001b[38;5;124m\"\u001b[39m\u001b[38;5;132;01m{\u001b[39;00mvalue\u001b[38;5;132;01m}\u001b[39;00m\u001b[38;5;124m\"\u001b[39m\u001b[38;5;124m]\u001b[39m\u001b[38;5;124m'\u001b[39m\n\u001b[0;32m    858\u001b[0m \u001b[38;5;66;03m# Return empty list if driver returns null\u001b[39;00m\n\u001b[0;32m    859\u001b[0m \u001b[38;5;66;03m# See https://github.com/SeleniumHQ/selenium/issues/4555\u001b[39;00m\n\u001b[1;32m--> 860\u001b[0m \u001b[38;5;28;01mreturn\u001b[39;00m \u001b[38;5;28;43mself\u001b[39;49m\u001b[38;5;241;43m.\u001b[39;49m\u001b[43mexecute\u001b[49m\u001b[43m(\u001b[49m\u001b[43mCommand\u001b[49m\u001b[38;5;241;43m.\u001b[39;49m\u001b[43mFIND_ELEMENTS\u001b[49m\u001b[43m,\u001b[49m\u001b[43m \u001b[49m\u001b[43m{\u001b[49m\u001b[38;5;124;43m\"\u001b[39;49m\u001b[38;5;124;43musing\u001b[39;49m\u001b[38;5;124;43m\"\u001b[39;49m\u001b[43m:\u001b[49m\u001b[43m \u001b[49m\u001b[43mby\u001b[49m\u001b[43m,\u001b[49m\u001b[43m \u001b[49m\u001b[38;5;124;43m\"\u001b[39;49m\u001b[38;5;124;43mvalue\u001b[39;49m\u001b[38;5;124;43m\"\u001b[39;49m\u001b[43m:\u001b[49m\u001b[43m \u001b[49m\u001b[43mvalue\u001b[49m\u001b[43m}\u001b[49m\u001b[43m)\u001b[49m[\u001b[38;5;124m\"\u001b[39m\u001b[38;5;124mvalue\u001b[39m\u001b[38;5;124m\"\u001b[39m] \u001b[38;5;129;01mor\u001b[39;00m []\n",
      "File \u001b[1;32m~\\anaconda3\\lib\\site-packages\\selenium\\webdriver\\remote\\webdriver.py:440\u001b[0m, in \u001b[0;36mWebDriver.execute\u001b[1;34m(self, driver_command, params)\u001b[0m\n\u001b[0;32m    438\u001b[0m response \u001b[38;5;241m=\u001b[39m \u001b[38;5;28mself\u001b[39m\u001b[38;5;241m.\u001b[39mcommand_executor\u001b[38;5;241m.\u001b[39mexecute(driver_command, params)\n\u001b[0;32m    439\u001b[0m \u001b[38;5;28;01mif\u001b[39;00m response:\n\u001b[1;32m--> 440\u001b[0m     \u001b[38;5;28;43mself\u001b[39;49m\u001b[38;5;241;43m.\u001b[39;49m\u001b[43merror_handler\u001b[49m\u001b[38;5;241;43m.\u001b[39;49m\u001b[43mcheck_response\u001b[49m\u001b[43m(\u001b[49m\u001b[43mresponse\u001b[49m\u001b[43m)\u001b[49m\n\u001b[0;32m    441\u001b[0m     response[\u001b[38;5;124m\"\u001b[39m\u001b[38;5;124mvalue\u001b[39m\u001b[38;5;124m\"\u001b[39m] \u001b[38;5;241m=\u001b[39m \u001b[38;5;28mself\u001b[39m\u001b[38;5;241m.\u001b[39m_unwrap_value(response\u001b[38;5;241m.\u001b[39mget(\u001b[38;5;124m\"\u001b[39m\u001b[38;5;124mvalue\u001b[39m\u001b[38;5;124m\"\u001b[39m, \u001b[38;5;28;01mNone\u001b[39;00m))\n\u001b[0;32m    442\u001b[0m     \u001b[38;5;28;01mreturn\u001b[39;00m response\n",
      "File \u001b[1;32m~\\anaconda3\\lib\\site-packages\\selenium\\webdriver\\remote\\errorhandler.py:245\u001b[0m, in \u001b[0;36mErrorHandler.check_response\u001b[1;34m(self, response)\u001b[0m\n\u001b[0;32m    243\u001b[0m         alert_text \u001b[38;5;241m=\u001b[39m value[\u001b[38;5;124m\"\u001b[39m\u001b[38;5;124malert\u001b[39m\u001b[38;5;124m\"\u001b[39m]\u001b[38;5;241m.\u001b[39mget(\u001b[38;5;124m\"\u001b[39m\u001b[38;5;124mtext\u001b[39m\u001b[38;5;124m\"\u001b[39m)\n\u001b[0;32m    244\u001b[0m     \u001b[38;5;28;01mraise\u001b[39;00m exception_class(message, screen, stacktrace, alert_text)  \u001b[38;5;66;03m# type: ignore[call-arg]  # mypy is not smart enough here\u001b[39;00m\n\u001b[1;32m--> 245\u001b[0m \u001b[38;5;28;01mraise\u001b[39;00m exception_class(message, screen, stacktrace)\n",
      "\u001b[1;31mNoSuchWindowException\u001b[0m: Message: no such window: target window already closed\nfrom unknown error: web view not found\n  (Session info: chrome=110.0.5481.178)\nStacktrace:\nBacktrace:\n\t(No symbol) [0x011237D3]\n\t(No symbol) [0x010B8B81]\n\t(No symbol) [0x00FBB36D]\n\t(No symbol) [0x00F9E5DA]\n\t(No symbol) [0x0100F0CB]\n\t(No symbol) [0x01020A56]\n\t(No symbol) [0x0100B216]\n\t(No symbol) [0x00FE0D97]\n\t(No symbol) [0x00FE253D]\n\tGetHandleVerifier [0x0139ABF2+2510930]\n\tGetHandleVerifier [0x013C8EC1+2700065]\n\tGetHandleVerifier [0x013CC86C+2714828]\n\tGetHandleVerifier [0x011D3480+645344]\n\t(No symbol) [0x010C0FD2]\n\t(No symbol) [0x010C6C68]\n\t(No symbol) [0x010C6D4B]\n\t(No symbol) [0x010D0D6B]\n\tBaseThreadInitThunk [0x75F47D69+25]\n\tRtlInitializeExceptionChain [0x7704BB9B+107]\n\tRtlClearBits [0x7704BB1F+191]\n"
     ]
    }
   ],
   "source": [
    "start=0\n",
    "end=14\n",
    "for page in range(start,end):\n",
    "    rank_tags=driver.find_elements(By.XPATH,'//div[@class=\"rank\"]')\n",
    "for i in rank_tags:    \n",
    "    rank=i.text\n",
    "    rank_tags.append(rank)\n",
    "    \n",
    "    name_tags=driver.find_elements(By.XPATH,'//div[@class=\"personName\"]')\n",
    "for i in name_tags:    \n",
    "    name=i.text\n",
    "    name_tags.append(name)\n",
    "\n",
    "net_worth=driver.find_elements(By.XPATH,'//div[@class=\"netWorth\"]')\n",
    "for i in net_worth:\n",
    "    worth=i.text\n",
    "    net_worth.append(worth)\n",
    "    \n",
    "country_terr=driver.find_elements(By.XPATH,'//div[@class=\"countryOfCitizenship\"]')\n",
    "for i in country_terr:\n",
    "    terr=i.text\n",
    "    country_terr.append(terr)\n",
    "    \n",
    "source_tags=driver.find_elements(By.XPATH,'//div[@class=\"source\"]')\n",
    "for i in source_tags:\n",
    "    source=i.text\n",
    "    source_tags.append(source)\n",
    "    \n",
    "    age=driver.find_elements(By.XPATH,'//div[@class=\"age\"]')\n",
    "for i in age:\n",
    "    age.text\n",
    "   \n",
    "    industry=driver.find_elements(By.XPATH,'//div[@class=\"category\"]')\n",
    "for i in industry:\n",
    "    industry.text\n",
    "    next_button=driver.find_elements(By.XPATH,'//span[@class=\"bubble-arrow__label\"]').click()  "
   ]
  },
  {
   "cell_type": "code",
   "execution_count": 53,
   "id": "0b2b850c",
   "metadata": {},
   "outputs": [
    {
     "ename": "NameError",
     "evalue": "name 'net_worth' is not defined",
     "output_type": "error",
     "traceback": [
      "\u001b[1;31m---------------------------------------------------------------------------\u001b[0m",
      "\u001b[1;31mNameError\u001b[0m                                 Traceback (most recent call last)",
      "Input \u001b[1;32mIn [53]\u001b[0m, in \u001b[0;36m<cell line: 1>\u001b[1;34m()\u001b[0m\n\u001b[1;32m----> 1\u001b[0m \u001b[38;5;28mprint\u001b[39m({\u001b[38;5;124m'\u001b[39m\u001b[38;5;124mRank\u001b[39m\u001b[38;5;124m'\u001b[39m:rank_tags,\u001b[38;5;124m'\u001b[39m\u001b[38;5;124mName\u001b[39m\u001b[38;5;124m'\u001b[39m:name_tags,\u001b[38;5;124m'\u001b[39m\u001b[38;5;124mNet Worth\u001b[39m\u001b[38;5;124m'\u001b[39m:\u001b[43mnet_worth\u001b[49m,\u001b[38;5;124m'\u001b[39m\u001b[38;5;124mAGE\u001b[39m\u001b[38;5;124m'\u001b[39m:age,\u001b[38;5;124m'\u001b[39m\u001b[38;5;124mCitizenship\u001b[39m\u001b[38;5;124m'\u001b[39m:country_terr,\u001b[38;5;124m'\u001b[39m\u001b[38;5;124mSource\u001b[39m\u001b[38;5;124m'\u001b[39m:source_tags,\u001b[38;5;124m'\u001b[39m\u001b[38;5;124mIndustry\u001b[39m\u001b[38;5;124m'\u001b[39m:industry})\n",
      "\u001b[1;31mNameError\u001b[0m: name 'net_worth' is not defined"
     ]
    }
   ],
   "source": [
    "print({'Rank':rank_tags,'Name':name_tags,'Net Worth':net_worth,'AGE':age,'Citizenship':country_terr,'Source':source_tags,'Industry':industry})"
   ]
  },
  {
   "cell_type": "code",
   "execution_count": null,
   "id": "5980c0ee",
   "metadata": {},
   "outputs": [],
   "source": []
  },
  {
   "cell_type": "markdown",
   "id": "dd73cd5e",
   "metadata": {},
   "source": [
    "# answer 8"
   ]
  },
  {
   "cell_type": "code",
   "execution_count": null,
   "id": "749f9bb4",
   "metadata": {},
   "outputs": [],
   "source": []
  },
  {
   "cell_type": "code",
   "execution_count": 48,
   "id": "b10e0b23",
   "metadata": {},
   "outputs": [],
   "source": [
    "driver=webdriver.Chrome(r\"C:\\Users\\ritul pawar\\Downloads\\chromedriver_win32\\chromedriver.exe\")"
   ]
  },
  {
   "cell_type": "code",
   "execution_count": null,
   "id": "9b007c5f",
   "metadata": {},
   "outputs": [],
   "source": [
    "from selenium import webdriver\n",
    "import time\n",
    "import os\n",
    "import csv\n",
    "import pandas as pd\n",
    "from math import ceil"
   ]
  },
  {
   "cell_type": "code",
   "execution_count": 63,
   "id": "cc8dabf6",
   "metadata": {},
   "outputs": [
    {
     "ename": "FileNotFoundError",
     "evalue": "[Errno 2] No such file or directory: 'D:\\\\INTERNSHIP\\\\scrap.csv'",
     "output_type": "error",
     "traceback": [
      "\u001b[1;31m---------------------------------------------------------------------------\u001b[0m",
      "\u001b[1;31mFileNotFoundError\u001b[0m                         Traceback (most recent call last)",
      "Input \u001b[1;32mIn [63]\u001b[0m, in \u001b[0;36m<cell line: 3>\u001b[1;34m()\u001b[0m\n\u001b[0;32m      1\u001b[0m \u001b[38;5;66;03m# Creates a new .csv file that the data will be written to\u001b[39;00m\n\u001b[1;32m----> 3\u001b[0m csv_file \u001b[38;5;241m=\u001b[39m \u001b[38;5;28;43mopen\u001b[39;49m\u001b[43m(\u001b[49m\u001b[38;5;124;43m\"\u001b[39;49m\u001b[38;5;124;43mD:\u001b[39;49m\u001b[38;5;124;43m\\\u001b[39;49m\u001b[38;5;124;43mINTERNSHIP\u001b[39;49m\u001b[38;5;124;43m\\\u001b[39;49m\u001b[38;5;124;43mscrap.csv\u001b[39;49m\u001b[38;5;124;43m\"\u001b[39;49m\u001b[43m,\u001b[49m\u001b[43m \u001b[49m\u001b[38;5;124;43m'\u001b[39;49m\u001b[38;5;124;43mw\u001b[39;49m\u001b[38;5;124;43m'\u001b[39;49m\u001b[43m,\u001b[49m\u001b[43m \u001b[49m\u001b[43mencoding\u001b[49m\u001b[38;5;241;43m=\u001b[39;49m\u001b[38;5;124;43m\"\u001b[39;49m\u001b[38;5;124;43mUTF-8\u001b[39;49m\u001b[38;5;124;43m\"\u001b[39;49m\u001b[43m,\u001b[49m\u001b[43m \u001b[49m\u001b[43mnewline\u001b[49m\u001b[38;5;241;43m=\u001b[39;49m\u001b[38;5;124;43m\"\u001b[39;49m\u001b[38;5;124;43m\"\u001b[39;49m\u001b[43m)\u001b[49m\n\u001b[0;32m      4\u001b[0m writer \u001b[38;5;241m=\u001b[39m csv\u001b[38;5;241m.\u001b[39mwriter(csv_file)\n",
      "\u001b[1;31mFileNotFoundError\u001b[0m: [Errno 2] No such file or directory: 'D:\\\\INTERNSHIP\\\\scrap.csv'"
     ]
    }
   ],
   "source": [
    "# Creates a new .csv file that the data will be written to\n",
    "\n",
    "csv_file = open(\"D:\\INTERNSHIP\\scrap.csv\", 'w', encoding=\"UTF-8\", newline=\"\")\n",
    "writer = csv.writer(csv_file)"
   ]
  },
  {
   "cell_type": "code",
   "execution_count": 64,
   "id": "659c5f28",
   "metadata": {},
   "outputs": [
    {
     "ename": "NameError",
     "evalue": "name 'writer' is not defined",
     "output_type": "error",
     "traceback": [
      "\u001b[1;31m---------------------------------------------------------------------------\u001b[0m",
      "\u001b[1;31mNameError\u001b[0m                                 Traceback (most recent call last)",
      "Input \u001b[1;32mIn [64]\u001b[0m, in \u001b[0;36m<cell line: 2>\u001b[1;34m()\u001b[0m\n\u001b[0;32m      1\u001b[0m \u001b[38;5;66;03m# write header names\u001b[39;00m\n\u001b[1;32m----> 2\u001b[0m \u001b[43mwriter\u001b[49m\u001b[38;5;241m.\u001b[39mwriterow(\n\u001b[0;32m      3\u001b[0m     [\u001b[38;5;124m'\u001b[39m\u001b[38;5;124murl\u001b[39m\u001b[38;5;124m'\u001b[39m, \u001b[38;5;124m'\u001b[39m\u001b[38;5;124mlink_title\u001b[39m\u001b[38;5;124m'\u001b[39m, \u001b[38;5;124m'\u001b[39m\u001b[38;5;124mchannel\u001b[39m\u001b[38;5;124m'\u001b[39m, \u001b[38;5;124m'\u001b[39m\u001b[38;5;124mno_of_views\u001b[39m\u001b[38;5;124m'\u001b[39m, \u001b[38;5;124m'\u001b[39m\u001b[38;5;124mtime_uploaded\u001b[39m\u001b[38;5;124m'\u001b[39m, \u001b[38;5;124m'\u001b[39m\u001b[38;5;124mcomment\u001b[39m\u001b[38;5;124m'\u001b[39m, \u001b[38;5;124m'\u001b[39m\u001b[38;5;124mauthor\u001b[39m\u001b[38;5;124m'\u001b[39m, \u001b[38;5;124m'\u001b[39m\u001b[38;5;124mcomment_posted\u001b[39m\u001b[38;5;124m'\u001b[39m, \n\u001b[0;32m      4\u001b[0m      \u001b[38;5;124m'\u001b[39m\u001b[38;5;124mno_of_replies\u001b[39m\u001b[38;5;124m'\u001b[39m,\u001b[38;5;124m'\u001b[39m\u001b[38;5;124mupvotes\u001b[39m\u001b[38;5;124m'\u001b[39m,\u001b[38;5;124m'\u001b[39m\u001b[38;5;124mdownvotes\u001b[39m\u001b[38;5;124m'\u001b[39m])\n",
      "\u001b[1;31mNameError\u001b[0m: name 'writer' is not defined"
     ]
    }
   ],
   "source": [
    "# write header names\n",
    "writer.writerow(\n",
    "    ['url', 'link_title', 'channel', 'no_of_views', 'time_uploaded', 'comment', 'author', 'comment_posted', \n",
    "     'no_of_replies','upvotes','downvotes'])"
   ]
  },
  {
   "cell_type": "code",
   "execution_count": 68,
   "id": "d88e82d9",
   "metadata": {},
   "outputs": [
    {
     "ename": "SyntaxError",
     "evalue": "(unicode error) 'unicodeescape' codec can't decode bytes in position 2-3: truncated \\UXXXXXXXX escape (2228186909.py, line 3)",
     "output_type": "error",
     "traceback": [
      "\u001b[1;36m  Input \u001b[1;32mIn [68]\u001b[1;36m\u001b[0m\n\u001b[1;33m    locationOfWebdriver = \"C:\\Users\\ritul pawar\\Downloads\\chromedriver_win32\\chromedriver.exe\"\u001b[0m\n\u001b[1;37m                                                                                              ^\u001b[0m\n\u001b[1;31mSyntaxError\u001b[0m\u001b[1;31m:\u001b[0m (unicode error) 'unicodeescape' codec can't decode bytes in position 2-3: truncated \\UXXXXXXXX escape\n"
     ]
    }
   ],
   "source": [
    "# open chrome \n",
    "youtube_pages = \"https://www.youtube.com/\"\n",
    "locationOfWebdriver = \"C:\\Users\\ritul pawar\\Downloads\\chromedriver_win32\\chromedriver.exe\"\n",
    "driver = webdriver.Chrome(locationOfWebdriver)\n",
    "driver.get(youtube_pages)\n",
    "time.sleep(10)\n",
    "try:\n",
    "    print(\"=\" * 40)  # Shows in terminal when youtube summary page with search keyword is being scraped\n",
    "    print(\"Scraping \" + youtube_pages)\n",
    "    search = driver.find_element_by_id('search')\n",
    "    search.send_keys(\"Kishore Kumar\")    \n",
    "    driver.find_element_by_id('search-icon-legacy').click()\n",
    "    time.sleep(20)    \n",
    "    vtitle = driver.find_elements_by_id('video-title')\n",
    "    subscription = driver.find_elements_by_id('byline')\n",
    "    views = driver.find_elements_by_xpath('//div[@id=\"metadata-line\"]/span[1]')\n",
    "    posted = driver.find_elements_by_xpath('//div[@id=\"metadata-line\"]/span[2]')\n",
    "    \n",
    "    tcount = 0\n",
    "    href = []\n",
    "    title = []\n",
    "    channel = []\n",
    "    numview = []\n",
    "    postdate = []\n",
    "        \n",
    "    while tcount < 10:\n",
    "        href.append(vtitle[tcount].get_attribute('href'))\n",
    "        channel.append(subscription[tcount].get_attribute('title'))\n",
    "        title.append(vtitle[tcount].text)\n",
    "        numview.append(views[tcount].text)\n",
    "        postdate.append(posted[tcount].text)  \n",
    "        tcount = tcount +1\n",
    "    \n",
    "    # launch top ten extracted links and extract comment details\n",
    "    tcount = 0    \n",
    "    while tcount < 10:  \n",
    "        youtube_dict ={}\n",
    "        # extract comment section of top ten links\n",
    "        url = href[tcount]\n",
    "        print (url)\n",
    "        driver.get(url)\n",
    "        time.sleep(5)\n",
    "        \n",
    "        try:\n",
    "            print(\"+\" * 40)  # Shows in terminal when details of a new video is being scraped\n",
    "            print(\"Scraping child links \")\n",
    "            #scroll down to load comments\n",
    "            driver.execute_script('window.scrollTo(0,390);')\n",
    "            time.sleep(15)\n",
    "            #sort by top comments\n",
    "            sort= driver.find_element_by_xpath(\"\"\"//*[@id=\"icon-label\"]\"\"\")\n",
    "            sort.click()\n",
    "            time.sleep(10)\n",
    "            topcomments =driver.find_element_by_xpath(\"\"\"//*[@id=\"menu\"]/a[1]/paper-item/paper-item-body/div[1]\"\"\")\n",
    "            topcomments.click()\n",
    "            time.sleep(10)\n",
    "            # Loads 20 comments , scroll two times to load next set of 40 comments. \n",
    "            for i in range(0,2):\n",
    "                driver.execute_script(\"window.scrollTo(0,Math.max(document.documentElement.scrollHeight,document.body.scrollHeight,document.documentElement.clientHeight))\")\n",
    "                time.sleep(10)\n",
    "            \n",
    "            #count total number of comments and set index to number of comments if less than 50 otherwise set as 50. \n",
    "            totalcomments= len(driver.find_elements_by_xpath(\"\"\"//*[@id=\"content-text\"]\"\"\"))\n",
    "         \n",
    "            if totalcomments < 50:\n",
    "                index= totalcomments\n",
    "            else:\n",
    "                index= 50 \n",
    "                \n",
    "            ccount = 0\n",
    "            while ccount < index: \n",
    "                try:\n",
    "                    comment = driver.find_elements_by_xpath('//*[@id=\"content-text\"]')[ccount].text\n",
    "                except:\n",
    "                    comment = \"\"\n",
    "                try:\n",
    "                    authors = driver.find_elements_by_xpath('//a[@id=\"author-text\"]/span')[ccount].text\n",
    "                except:\n",
    "                    authors = \"\"\n",
    "                try:\n",
    "                    comment_posted = driver.find_elements_by_xpath('//*[@id=\"published-time-text\"]/a')[ccount].text\n",
    "                except:\n",
    "                    comment_posted = \"\"\n",
    "                try:\n",
    "                    replies = driver.find_elements_by_xpath('//*[@id=\"more-text\"]')[ccount].text                    \n",
    "                    if replies ==\"View reply\":\n",
    "                        replies= 1\n",
    "                    else:\n",
    "                        replies =replies.replace(\"View \",\"\")\n",
    "                        replies =replies.replace(\" replies\",\"\")\n",
    "                except:\n",
    "                    replies = \"\"\n",
    "                try:\n",
    "                    upvotes = driver.find_elements_by_xpath('//*[@id=\"vote-count-middle\"]')[ccount].text\n",
    "                except:\n",
    "                    upvotes = \"\"\n",
    "                        \n",
    "                youtube_dict['url'] = href[tcount]\n",
    "                youtube_dict['link_title'] = title[tcount]\n",
    "                youtube_dict['channel'] = channel[tcount]\n",
    "                youtube_dict['no_of_views'] = numview[tcount]\n",
    "                youtube_dict['time_uploaded'] =  postdate[tcount]\n",
    "                youtube_dict['comment'] = comment\n",
    "                youtube_dict['author'] = authors\n",
    "                youtube_dict['comment_posted'] = comment_posted\n",
    "                youtube_dict['no_of_replies'] = replies\n",
    "                youtube_dict['upvotes'] = upvotes\n",
    "                \n",
    "                writer.writerow(youtube_dict.values())\n",
    "                ccount = ccount +1\n",
    "                \n",
    "        except Exception as e:\n",
    "            print(e)\n",
    "            driver.close()\n",
    "        tcount = tcount +1 \n",
    "    print(\"Scrapping process Completed\")   \n",
    "    csv_file.close()    \n",
    "except Exception as e:\n",
    "    print(e)"
   ]
  },
  {
   "cell_type": "markdown",
   "id": "147718e4",
   "metadata": {},
   "source": [
    "# answer 9"
   ]
  },
  {
   "cell_type": "code",
   "execution_count": null,
   "id": "174ace1f",
   "metadata": {},
   "outputs": [],
   "source": []
  },
  {
   "cell_type": "code",
   "execution_count": 54,
   "id": "e2800d0d",
   "metadata": {},
   "outputs": [],
   "source": [
    "import requests\n",
    "from bs4 import BeautifulSoup\n",
    "\n",
    "# Set the URL to be scraped\n",
    "url = 'https://www.hostelworld.com/hostels/London'\n",
    "\n",
    "# Send an HTTP request to the URL and get the HTML content\n",
    "response = requests.get(url)\n",
    "html_content = response.content\n",
    "\n",
    "# Parse the HTML content using BeautifulSoup\n",
    "soup = BeautifulSoup(html_content, 'html.parser')\n",
    "\n",
    "# Find all the hostel listings on the page\n",
    "hostel_listings = soup.find_all('div', class_='property-card-inner-wrap')\n",
    "\n",
    "# Loop through each hostel listing and extract the desired information\n",
    "for hostel in hostel_listings:\n",
    "    # Extract the hostel name\n",
    "    name = hostel.find('h2', class_='title title-6').text.strip()\n",
    "\n",
    "    # Extract the distance from city center\n",
    "    distance = hostel.find('span', class_='description').text.strip()\n",
    "\n",
    "    # Extract the ratings\n",
    "    ratings = hostel.find('div', class_='score orange big').text.strip()\n",
    "\n",
    "    # Extract the total number of reviews\n",
    "    total_reviews = hostel.find('div', class_='reviews').text.strip()\n",
    "\n",
    "    # Extract the overall reviews\n",
    "    overall_reviews = hostel.find('div', class_='rating-summary-container').text.strip()\n",
    "\n",
    "    # Extract the privates from price\n",
    "    privates = hostel.find('div', class_='price-col').text.strip()\n",
    "\n",
    "    # Extract the dorms from price\n",
    "    dorms = hostel.find('div', class_='price-col alt').text.strip()\n",
    "\n",
    "    # Extract the facilities\n",
    "    facilities = hostel.find_all('div', class_='facilities-label facilities-label-visible')\n",
    "    facilities_list = [f.text.strip() for f in facilities]\n",
    "\n",
    "    # Extract the property description\n",
    "    description = hostel.find('div', class_='subtitle body-2').text.strip()\n",
    "\n",
    "    # Print out the extracted information for each hostel\n",
    "    print('Name:', name)\n",
    "    print('Distance from city center:', distance)\n",
    "    print('Ratings:', ratings)\n",
    "    print('Total reviews:', total_reviews)\n",
    "    print('Overall reviews:', overall_reviews)\n",
    "    print('Privates from price:', privates)\n",
    "    print('Dorms from price:', dorms)\n",
    "    print('Facilities:', facilities_list)\n",
    "    print('Description:', description)\n",
    "    print('-------------------')\n"
   ]
  },
  {
   "cell_type": "code",
   "execution_count": null,
   "id": "f76f8aa5",
   "metadata": {},
   "outputs": [],
   "source": []
  }
 ],
 "metadata": {
  "kernelspec": {
   "display_name": "Python 3 (ipykernel)",
   "language": "python",
   "name": "python3"
  },
  "language_info": {
   "codemirror_mode": {
    "name": "ipython",
    "version": 3
   },
   "file_extension": ".py",
   "mimetype": "text/x-python",
   "name": "python",
   "nbconvert_exporter": "python",
   "pygments_lexer": "ipython3",
   "version": "3.9.12"
  }
 },
 "nbformat": 4,
 "nbformat_minor": 5
}
